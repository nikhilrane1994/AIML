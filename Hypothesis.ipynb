{
 "cells": [
  {
   "cell_type": "code",
   "execution_count": 1,
   "id": "b66885a4",
   "metadata": {},
   "outputs": [],
   "source": [
    "import numpy as np\n",
    "import pandas as pd"
   ]
  },
  {
   "cell_type": "code",
   "execution_count": 2,
   "id": "25dd5de2",
   "metadata": {},
   "outputs": [],
   "source": [
    "diff = np.array([85, 74, 63.5, 69.4, 71.6, 65,90,78]) - np.array([82, 71, 64, 65.2, 67.8, 64.7,95,77])"
   ]
  },
  {
   "cell_type": "code",
   "execution_count": 3,
   "id": "cc3fe623",
   "metadata": {},
   "outputs": [
    {
     "data": {
      "text/plain": [
       "array([ 3. ,  3. , -0.5,  4.2,  3.8,  0.3, -5. ,  1. ])"
      ]
     },
     "execution_count": 3,
     "metadata": {},
     "output_type": "execute_result"
    }
   ],
   "source": [
    "diff"
   ]
  },
  {
   "cell_type": "code",
   "execution_count": 4,
   "id": "14af288c",
   "metadata": {},
   "outputs": [],
   "source": [
    "t_s = np.mean(diff) - 0 / (np.std(diff)/np.sqrt(len(diff)))"
   ]
  },
  {
   "cell_type": "code",
   "execution_count": 5,
   "id": "9090a80f",
   "metadata": {},
   "outputs": [
    {
     "data": {
      "text/plain": [
       "1.2249999999999996"
      ]
     },
     "execution_count": 5,
     "metadata": {},
     "output_type": "execute_result"
    }
   ],
   "source": [
    "t_s"
   ]
  },
  {
   "cell_type": "code",
   "execution_count": 9,
   "id": "8b65bbee",
   "metadata": {},
   "outputs": [
    {
     "data": {
      "text/plain": [
       "7"
      ]
     },
     "execution_count": 9,
     "metadata": {},
     "output_type": "execute_result"
    }
   ],
   "source": [
    "dof = len(diff) - 1\n",
    "dof"
   ]
  },
  {
   "cell_type": "code",
   "execution_count": 14,
   "id": "2460ed45",
   "metadata": {},
   "outputs": [
    {
     "data": {
      "text/plain": [
       "1.41"
      ]
     },
     "execution_count": 14,
     "metadata": {},
     "output_type": "execute_result"
    }
   ],
   "source": [
    "t_val = round(t.isf(q = 0.10, df = dof), 2)\n",
    "t_val"
   ]
  },
  {
   "cell_type": "code",
   "execution_count": 6,
   "id": "f7363def",
   "metadata": {},
   "outputs": [],
   "source": [
    "from scipy.stats import t"
   ]
  },
  {
   "cell_type": "code",
   "execution_count": 10,
   "id": "e6d5a1c1",
   "metadata": {},
   "outputs": [
    {
     "data": {
      "text/plain": [
       "0.8697266861596505"
      ]
     },
     "execution_count": 10,
     "metadata": {},
     "output_type": "execute_result"
    }
   ],
   "source": [
    "t.cdf(1.224,7)"
   ]
  },
  {
   "cell_type": "code",
   "execution_count": 12,
   "id": "aeb99787",
   "metadata": {},
   "outputs": [
    {
     "data": {
      "text/plain": [
       "0.24845006240500964"
      ]
     },
     "execution_count": 12,
     "metadata": {},
     "output_type": "execute_result"
    }
   ],
   "source": [
    "t.pdf(0.90,7)"
   ]
  },
  {
   "cell_type": "code",
   "execution_count": 15,
   "id": "df2d8833",
   "metadata": {},
   "outputs": [],
   "source": [
    "df = pd.read_csv('percentiles.csv')"
   ]
  },
  {
   "cell_type": "code",
   "execution_count": 16,
   "id": "18864de6",
   "metadata": {},
   "outputs": [
    {
     "data": {
      "text/html": [
       "<div>\n",
       "<style scoped>\n",
       "    .dataframe tbody tr th:only-of-type {\n",
       "        vertical-align: middle;\n",
       "    }\n",
       "\n",
       "    .dataframe tbody tr th {\n",
       "        vertical-align: top;\n",
       "    }\n",
       "\n",
       "    .dataframe thead th {\n",
       "        text-align: right;\n",
       "    }\n",
       "</style>\n",
       "<table border=\"1\" class=\"dataframe\">\n",
       "  <thead>\n",
       "    <tr style=\"text-align: right;\">\n",
       "      <th></th>\n",
       "      <th>Unnamed: 0</th>\n",
       "      <th>Dist1</th>\n",
       "      <th>Dist2</th>\n",
       "    </tr>\n",
       "  </thead>\n",
       "  <tbody>\n",
       "    <tr>\n",
       "      <th>0</th>\n",
       "      <td>0</td>\n",
       "      <td>0.000483</td>\n",
       "      <td>0.014939</td>\n",
       "    </tr>\n",
       "    <tr>\n",
       "      <th>1</th>\n",
       "      <td>1</td>\n",
       "      <td>0.002950</td>\n",
       "      <td>0.041212</td>\n",
       "    </tr>\n",
       "    <tr>\n",
       "      <th>2</th>\n",
       "      <td>2</td>\n",
       "      <td>0.004308</td>\n",
       "      <td>0.051100</td>\n",
       "    </tr>\n",
       "    <tr>\n",
       "      <th>3</th>\n",
       "      <td>3</td>\n",
       "      <td>0.005412</td>\n",
       "      <td>0.058199</td>\n",
       "    </tr>\n",
       "    <tr>\n",
       "      <th>4</th>\n",
       "      <td>4</td>\n",
       "      <td>0.008340</td>\n",
       "      <td>0.074554</td>\n",
       "    </tr>\n",
       "    <tr>\n",
       "      <th>...</th>\n",
       "      <td>...</td>\n",
       "      <td>...</td>\n",
       "      <td>...</td>\n",
       "    </tr>\n",
       "    <tr>\n",
       "      <th>49995</th>\n",
       "      <td>49995</td>\n",
       "      <td>99.992134</td>\n",
       "      <td>96.804505</td>\n",
       "    </tr>\n",
       "    <tr>\n",
       "      <th>49996</th>\n",
       "      <td>49996</td>\n",
       "      <td>99.995023</td>\n",
       "      <td>97.306047</td>\n",
       "    </tr>\n",
       "    <tr>\n",
       "      <th>49997</th>\n",
       "      <td>49997</td>\n",
       "      <td>99.996875</td>\n",
       "      <td>97.736447</td>\n",
       "    </tr>\n",
       "    <tr>\n",
       "      <th>49998</th>\n",
       "      <td>49998</td>\n",
       "      <td>99.997964</td>\n",
       "      <td>98.072219</td>\n",
       "    </tr>\n",
       "    <tr>\n",
       "      <th>49999</th>\n",
       "      <td>49999</td>\n",
       "      <td>99.999562</td>\n",
       "      <td>98.919901</td>\n",
       "    </tr>\n",
       "  </tbody>\n",
       "</table>\n",
       "<p>50000 rows × 3 columns</p>\n",
       "</div>"
      ],
      "text/plain": [
       "       Unnamed: 0      Dist1      Dist2\n",
       "0               0   0.000483   0.014939\n",
       "1               1   0.002950   0.041212\n",
       "2               2   0.004308   0.051100\n",
       "3               3   0.005412   0.058199\n",
       "4               4   0.008340   0.074554\n",
       "...           ...        ...        ...\n",
       "49995       49995  99.992134  96.804505\n",
       "49996       49996  99.995023  97.306047\n",
       "49997       49997  99.996875  97.736447\n",
       "49998       49998  99.997964  98.072219\n",
       "49999       49999  99.999562  98.919901\n",
       "\n",
       "[50000 rows x 3 columns]"
      ]
     },
     "execution_count": 16,
     "metadata": {},
     "output_type": "execute_result"
    }
   ],
   "source": [
    "df"
   ]
  },
  {
   "cell_type": "code",
   "execution_count": 17,
   "id": "b5c5367e",
   "metadata": {},
   "outputs": [],
   "source": [
    "from scipy import stats"
   ]
  },
  {
   "cell_type": "code",
   "execution_count": 18,
   "id": "78c8fa45",
   "metadata": {},
   "outputs": [
    {
     "data": {
      "text/plain": [
       "KstestResult(statistic=0.34346000000000004, pvalue=0.0)"
      ]
     },
     "execution_count": 18,
     "metadata": {},
     "output_type": "execute_result"
    }
   ],
   "source": [
    "stats.ks_2samp(df['Dist1'],df['Dist2'])"
   ]
  },
  {
   "cell_type": "code",
   "execution_count": 19,
   "id": "535cdec6",
   "metadata": {},
   "outputs": [],
   "source": [
    "from scipy.stats import chi2"
   ]
  },
  {
   "cell_type": "code",
   "execution_count": 29,
   "id": "209b491d",
   "metadata": {},
   "outputs": [
    {
     "data": {
      "text/plain": [
       "5.991464547107979"
      ]
     },
     "execution_count": 29,
     "metadata": {},
     "output_type": "execute_result"
    }
   ],
   "source": [
    "chi2.ppf(0.95,2)"
   ]
  },
  {
   "cell_type": "code",
   "execution_count": 28,
   "id": "0c108635",
   "metadata": {},
   "outputs": [
    {
     "data": {
      "text/plain": [
       "0.6861561865391452"
      ]
     },
     "execution_count": 28,
     "metadata": {},
     "output_type": "execute_result"
    }
   ],
   "source": [
    "1 - chi2.cdf(0.7533,2)"
   ]
  },
  {
   "cell_type": "code",
   "execution_count": null,
   "id": "ab1cc79c",
   "metadata": {},
   "outputs": [],
   "source": []
  }
 ],
 "metadata": {
  "kernelspec": {
   "display_name": "Python 3 (ipykernel)",
   "language": "python",
   "name": "python3"
  },
  "language_info": {
   "codemirror_mode": {
    "name": "ipython",
    "version": 3
   },
   "file_extension": ".py",
   "mimetype": "text/x-python",
   "name": "python",
   "nbconvert_exporter": "python",
   "pygments_lexer": "ipython3",
   "version": "3.9.6"
  }
 },
 "nbformat": 4,
 "nbformat_minor": 5
}
