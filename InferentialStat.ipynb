{
 "cells": [
  {
   "cell_type": "code",
   "execution_count": 10,
   "id": "5947bee9",
   "metadata": {},
   "outputs": [],
   "source": [
    "import numpy as np\n",
    "import pandas as pd\n",
    "import matplotlib.pyplot as plt\n",
    "import seaborn as sns\n",
    "import scipy.stats"
   ]
  },
  {
   "cell_type": "code",
   "execution_count": 2,
   "id": "fd169dd2",
   "metadata": {},
   "outputs": [],
   "source": [
    "arr = np.array([2, 3, 5, 6, 7, 9, 8, 1, 2])"
   ]
  },
  {
   "cell_type": "code",
   "execution_count": 3,
   "id": "11dad82a",
   "metadata": {},
   "outputs": [
    {
     "data": {
      "text/plain": [
       "array([2, 3, 5, 6, 7, 9, 8, 1, 2])"
      ]
     },
     "execution_count": 3,
     "metadata": {},
     "output_type": "execute_result"
    }
   ],
   "source": [
    "arr"
   ]
  },
  {
   "cell_type": "code",
   "execution_count": 19,
   "id": "1e39ee67",
   "metadata": {},
   "outputs": [],
   "source": [
    "m = np.mean(arr)\n",
    "s = np.std(arr)/np.sqrt(len(arr))"
   ]
  },
  {
   "cell_type": "code",
   "execution_count": 20,
   "id": "31479e0b",
   "metadata": {},
   "outputs": [
    {
     "data": {
      "text/plain": [
       "(4.777777777777778, 0.913246518958367)"
      ]
     },
     "execution_count": 20,
     "metadata": {},
     "output_type": "execute_result"
    }
   ],
   "source": [
    "m,s"
   ]
  },
  {
   "cell_type": "code",
   "execution_count": 23,
   "id": "2e65024d",
   "metadata": {},
   "outputs": [
    {
     "data": {
      "text/plain": [
       "6.57"
      ]
     },
     "execution_count": 23,
     "metadata": {},
     "output_type": "execute_result"
    }
   ],
   "source": [
    "a = m + 1.96*s\n",
    "np.round(a,2)"
   ]
  },
  {
   "cell_type": "code",
   "execution_count": 11,
   "id": "d5dd4687",
   "metadata": {},
   "outputs": [
    {
     "name": "stderr",
     "output_type": "stream",
     "text": [
      "d:\\testautomation\\python3\\lib\\site-packages\\numpy\\core\\_methods.py:262: RuntimeWarning: Degrees of freedom <= 0 for slice\n",
      "  ret = _var(a, axis=axis, dtype=dtype, out=out, ddof=ddof,\n",
      "d:\\testautomation\\python3\\lib\\site-packages\\numpy\\core\\_methods.py:254: RuntimeWarning: invalid value encountered in double_scalars\n",
      "  ret = ret.dtype.type(ret / rcount)\n"
     ]
    },
    {
     "data": {
      "text/plain": [
       "(10.147667309252975, nan)"
      ]
     },
     "execution_count": 11,
     "metadata": {},
     "output_type": "execute_result"
    }
   ],
   "source": [
    "m, se = np.mean(a), scipy.stats.sem(a)\n",
    "m, se"
   ]
  },
  {
   "cell_type": "code",
   "execution_count": 17,
   "id": "169dd2ed",
   "metadata": {},
   "outputs": [],
   "source": [
    "from scipy import stats\n",
    "conf_int = stats.norm.interval(0.95, loc=m, \n",
    "    scale=s/np.sqrt(len(arr)))"
   ]
  },
  {
   "cell_type": "code",
   "execution_count": 18,
   "id": "71c94461",
   "metadata": {},
   "outputs": [
    {
     "data": {
      "text/plain": [
       "(8.357737023088001, 11.93759759541795)"
      ]
     },
     "execution_count": 18,
     "metadata": {},
     "output_type": "execute_result"
    }
   ],
   "source": [
    "conf_int"
   ]
  },
  {
   "cell_type": "code",
   "execution_count": 25,
   "id": "4eaba619",
   "metadata": {},
   "outputs": [
    {
     "data": {
      "text/plain": [
       "1.2"
      ]
     },
     "execution_count": 25,
     "metadata": {},
     "output_type": "execute_result"
    }
   ],
   "source": [
    "12/np.sqrt(100)"
   ]
  },
  {
   "cell_type": "code",
   "execution_count": 27,
   "id": "5033cbb9",
   "metadata": {},
   "outputs": [
    {
     "data": {
      "text/plain": [
       "22.432"
      ]
     },
     "execution_count": 27,
     "metadata": {},
     "output_type": "execute_result"
    }
   ],
   "source": [
    "24 - 1.96*(8/np.sqrt(100))"
   ]
  },
  {
   "cell_type": "code",
   "execution_count": null,
   "id": "0dd98e84",
   "metadata": {},
   "outputs": [],
   "source": []
  }
 ],
 "metadata": {
  "kernelspec": {
   "display_name": "Python 3 (ipykernel)",
   "language": "python",
   "name": "python3"
  },
  "language_info": {
   "codemirror_mode": {
    "name": "ipython",
    "version": 3
   },
   "file_extension": ".py",
   "mimetype": "text/x-python",
   "name": "python",
   "nbconvert_exporter": "python",
   "pygments_lexer": "ipython3",
   "version": "3.9.6"
  }
 },
 "nbformat": 4,
 "nbformat_minor": 5
}
