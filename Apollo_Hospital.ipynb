{
 "cells": [
  {
   "cell_type": "code",
   "execution_count": null,
   "id": "5061277a",
   "metadata": {},
   "outputs": [],
   "source": []
  },
  {
   "cell_type": "code",
   "execution_count": 1,
   "id": "0d44c7a4",
   "metadata": {},
   "outputs": [],
   "source": [
    "import pandas as pd\n",
    "import numpy as np\n",
    "from scipy import stats\n",
    "import matplotlib.pyplot as plt\n",
    "import seaborn as sns"
   ]
  },
  {
   "cell_type": "code",
   "execution_count": 3,
   "id": "3cc0e8f4",
   "metadata": {},
   "outputs": [
    {
     "data": {
      "text/plain": [
       "(1338, 8)"
      ]
     },
     "execution_count": 3,
     "metadata": {},
     "output_type": "execute_result"
    }
   ],
   "source": [
    "# data loading\n",
    "data = pd.read_csv('scaler_apollo_hospitals.csv')\n",
    "data.shape"
   ]
  },
  {
   "cell_type": "code",
   "execution_count": 5,
   "id": "7ee0b516",
   "metadata": {},
   "outputs": [],
   "source": [
    "# droping duplicate column\n",
    "data.drop(columns=data.columns[0],inplace=True)"
   ]
  },
  {
   "cell_type": "code",
   "execution_count": 6,
   "id": "da8b1eae",
   "metadata": {},
   "outputs": [
    {
     "data": {
      "text/html": [
       "<div>\n",
       "<style scoped>\n",
       "    .dataframe tbody tr th:only-of-type {\n",
       "        vertical-align: middle;\n",
       "    }\n",
       "\n",
       "    .dataframe tbody tr th {\n",
       "        vertical-align: top;\n",
       "    }\n",
       "\n",
       "    .dataframe thead th {\n",
       "        text-align: right;\n",
       "    }\n",
       "</style>\n",
       "<table border=\"1\" class=\"dataframe\">\n",
       "  <thead>\n",
       "    <tr style=\"text-align: right;\">\n",
       "      <th></th>\n",
       "      <th>age</th>\n",
       "      <th>sex</th>\n",
       "      <th>smoker</th>\n",
       "      <th>region</th>\n",
       "      <th>viral load</th>\n",
       "      <th>severity level</th>\n",
       "      <th>hospitalization charges</th>\n",
       "    </tr>\n",
       "  </thead>\n",
       "  <tbody>\n",
       "    <tr>\n",
       "      <th>0</th>\n",
       "      <td>19</td>\n",
       "      <td>female</td>\n",
       "      <td>yes</td>\n",
       "      <td>southwest</td>\n",
       "      <td>9.30</td>\n",
       "      <td>0</td>\n",
       "      <td>42212</td>\n",
       "    </tr>\n",
       "    <tr>\n",
       "      <th>1</th>\n",
       "      <td>18</td>\n",
       "      <td>male</td>\n",
       "      <td>no</td>\n",
       "      <td>southeast</td>\n",
       "      <td>11.26</td>\n",
       "      <td>1</td>\n",
       "      <td>4314</td>\n",
       "    </tr>\n",
       "    <tr>\n",
       "      <th>2</th>\n",
       "      <td>28</td>\n",
       "      <td>male</td>\n",
       "      <td>no</td>\n",
       "      <td>southeast</td>\n",
       "      <td>11.00</td>\n",
       "      <td>3</td>\n",
       "      <td>11124</td>\n",
       "    </tr>\n",
       "    <tr>\n",
       "      <th>3</th>\n",
       "      <td>33</td>\n",
       "      <td>male</td>\n",
       "      <td>no</td>\n",
       "      <td>northwest</td>\n",
       "      <td>7.57</td>\n",
       "      <td>0</td>\n",
       "      <td>54961</td>\n",
       "    </tr>\n",
       "    <tr>\n",
       "      <th>4</th>\n",
       "      <td>32</td>\n",
       "      <td>male</td>\n",
       "      <td>no</td>\n",
       "      <td>northwest</td>\n",
       "      <td>9.63</td>\n",
       "      <td>0</td>\n",
       "      <td>9667</td>\n",
       "    </tr>\n",
       "    <tr>\n",
       "      <th>...</th>\n",
       "      <td>...</td>\n",
       "      <td>...</td>\n",
       "      <td>...</td>\n",
       "      <td>...</td>\n",
       "      <td>...</td>\n",
       "      <td>...</td>\n",
       "      <td>...</td>\n",
       "    </tr>\n",
       "    <tr>\n",
       "      <th>1333</th>\n",
       "      <td>50</td>\n",
       "      <td>male</td>\n",
       "      <td>no</td>\n",
       "      <td>northwest</td>\n",
       "      <td>10.32</td>\n",
       "      <td>3</td>\n",
       "      <td>26501</td>\n",
       "    </tr>\n",
       "    <tr>\n",
       "      <th>1334</th>\n",
       "      <td>18</td>\n",
       "      <td>female</td>\n",
       "      <td>no</td>\n",
       "      <td>northeast</td>\n",
       "      <td>10.64</td>\n",
       "      <td>0</td>\n",
       "      <td>5515</td>\n",
       "    </tr>\n",
       "    <tr>\n",
       "      <th>1335</th>\n",
       "      <td>18</td>\n",
       "      <td>female</td>\n",
       "      <td>no</td>\n",
       "      <td>southeast</td>\n",
       "      <td>12.28</td>\n",
       "      <td>0</td>\n",
       "      <td>4075</td>\n",
       "    </tr>\n",
       "    <tr>\n",
       "      <th>1336</th>\n",
       "      <td>21</td>\n",
       "      <td>female</td>\n",
       "      <td>no</td>\n",
       "      <td>southwest</td>\n",
       "      <td>8.60</td>\n",
       "      <td>0</td>\n",
       "      <td>5020</td>\n",
       "    </tr>\n",
       "    <tr>\n",
       "      <th>1337</th>\n",
       "      <td>61</td>\n",
       "      <td>female</td>\n",
       "      <td>yes</td>\n",
       "      <td>northwest</td>\n",
       "      <td>9.69</td>\n",
       "      <td>0</td>\n",
       "      <td>72853</td>\n",
       "    </tr>\n",
       "  </tbody>\n",
       "</table>\n",
       "<p>1338 rows × 7 columns</p>\n",
       "</div>"
      ],
      "text/plain": [
       "      age     sex smoker     region  viral load  severity level  \\\n",
       "0      19  female    yes  southwest        9.30               0   \n",
       "1      18    male     no  southeast       11.26               1   \n",
       "2      28    male     no  southeast       11.00               3   \n",
       "3      33    male     no  northwest        7.57               0   \n",
       "4      32    male     no  northwest        9.63               0   \n",
       "...   ...     ...    ...        ...         ...             ...   \n",
       "1333   50    male     no  northwest       10.32               3   \n",
       "1334   18  female     no  northeast       10.64               0   \n",
       "1335   18  female     no  southeast       12.28               0   \n",
       "1336   21  female     no  southwest        8.60               0   \n",
       "1337   61  female    yes  northwest        9.69               0   \n",
       "\n",
       "      hospitalization charges  \n",
       "0                       42212  \n",
       "1                        4314  \n",
       "2                       11124  \n",
       "3                       54961  \n",
       "4                        9667  \n",
       "...                       ...  \n",
       "1333                    26501  \n",
       "1334                     5515  \n",
       "1335                     4075  \n",
       "1336                     5020  \n",
       "1337                    72853  \n",
       "\n",
       "[1338 rows x 7 columns]"
      ]
     },
     "execution_count": 6,
     "metadata": {},
     "output_type": "execute_result"
    }
   ],
   "source": [
    "data"
   ]
  },
  {
   "cell_type": "code",
   "execution_count": 7,
   "id": "b82a5c3b",
   "metadata": {},
   "outputs": [
    {
     "data": {
      "text/plain": [
       "age                          int64\n",
       "sex                         object\n",
       "smoker                      object\n",
       "region                      object\n",
       "viral load                 float64\n",
       "severity level               int64\n",
       "hospitalization charges      int64\n",
       "dtype: object"
      ]
     },
     "execution_count": 7,
     "metadata": {},
     "output_type": "execute_result"
    }
   ],
   "source": [
    "data.dtypes"
   ]
  },
  {
   "cell_type": "code",
   "execution_count": 8,
   "id": "46150d1b",
   "metadata": {},
   "outputs": [
    {
     "data": {
      "text/html": [
       "<div>\n",
       "<style scoped>\n",
       "    .dataframe tbody tr th:only-of-type {\n",
       "        vertical-align: middle;\n",
       "    }\n",
       "\n",
       "    .dataframe tbody tr th {\n",
       "        vertical-align: top;\n",
       "    }\n",
       "\n",
       "    .dataframe thead th {\n",
       "        text-align: right;\n",
       "    }\n",
       "</style>\n",
       "<table border=\"1\" class=\"dataframe\">\n",
       "  <thead>\n",
       "    <tr style=\"text-align: right;\">\n",
       "      <th></th>\n",
       "      <th>age</th>\n",
       "      <th>viral load</th>\n",
       "      <th>severity level</th>\n",
       "      <th>hospitalization charges</th>\n",
       "    </tr>\n",
       "  </thead>\n",
       "  <tbody>\n",
       "    <tr>\n",
       "      <th>count</th>\n",
       "      <td>1338.000000</td>\n",
       "      <td>1338.000000</td>\n",
       "      <td>1338.000000</td>\n",
       "      <td>1338.000000</td>\n",
       "    </tr>\n",
       "    <tr>\n",
       "      <th>mean</th>\n",
       "      <td>39.207025</td>\n",
       "      <td>10.221233</td>\n",
       "      <td>1.094918</td>\n",
       "      <td>33176.058296</td>\n",
       "    </tr>\n",
       "    <tr>\n",
       "      <th>std</th>\n",
       "      <td>14.049960</td>\n",
       "      <td>2.032796</td>\n",
       "      <td>1.205493</td>\n",
       "      <td>30275.029296</td>\n",
       "    </tr>\n",
       "    <tr>\n",
       "      <th>min</th>\n",
       "      <td>18.000000</td>\n",
       "      <td>5.320000</td>\n",
       "      <td>0.000000</td>\n",
       "      <td>2805.000000</td>\n",
       "    </tr>\n",
       "    <tr>\n",
       "      <th>25%</th>\n",
       "      <td>27.000000</td>\n",
       "      <td>8.762500</td>\n",
       "      <td>0.000000</td>\n",
       "      <td>11851.000000</td>\n",
       "    </tr>\n",
       "    <tr>\n",
       "      <th>50%</th>\n",
       "      <td>39.000000</td>\n",
       "      <td>10.130000</td>\n",
       "      <td>1.000000</td>\n",
       "      <td>23455.000000</td>\n",
       "    </tr>\n",
       "    <tr>\n",
       "      <th>75%</th>\n",
       "      <td>51.000000</td>\n",
       "      <td>11.567500</td>\n",
       "      <td>2.000000</td>\n",
       "      <td>41599.500000</td>\n",
       "    </tr>\n",
       "    <tr>\n",
       "      <th>max</th>\n",
       "      <td>64.000000</td>\n",
       "      <td>17.710000</td>\n",
       "      <td>5.000000</td>\n",
       "      <td>159426.000000</td>\n",
       "    </tr>\n",
       "  </tbody>\n",
       "</table>\n",
       "</div>"
      ],
      "text/plain": [
       "               age   viral load  severity level  hospitalization charges\n",
       "count  1338.000000  1338.000000     1338.000000              1338.000000\n",
       "mean     39.207025    10.221233        1.094918             33176.058296\n",
       "std      14.049960     2.032796        1.205493             30275.029296\n",
       "min      18.000000     5.320000        0.000000              2805.000000\n",
       "25%      27.000000     8.762500        0.000000             11851.000000\n",
       "50%      39.000000    10.130000        1.000000             23455.000000\n",
       "75%      51.000000    11.567500        2.000000             41599.500000\n",
       "max      64.000000    17.710000        5.000000            159426.000000"
      ]
     },
     "execution_count": 8,
     "metadata": {},
     "output_type": "execute_result"
    }
   ],
   "source": [
    "#description of data\n",
    "data.describe()"
   ]
  },
  {
   "cell_type": "code",
   "execution_count": 9,
   "id": "8c16c396",
   "metadata": {},
   "outputs": [
    {
     "data": {
      "text/plain": [
       "Index(['age', 'sex', 'smoker', 'region', 'viral load', 'severity level',\n",
       "       'hospitalization charges'],\n",
       "      dtype='object')"
      ]
     },
     "execution_count": 9,
     "metadata": {},
     "output_type": "execute_result"
    }
   ],
   "source": [
    "data.columns"
   ]
  },
  {
   "cell_type": "code",
   "execution_count": 10,
   "id": "9b1811f4",
   "metadata": {},
   "outputs": [
    {
     "data": {
      "text/plain": [
       "age                        0\n",
       "sex                        0\n",
       "smoker                     0\n",
       "region                     0\n",
       "viral load                 0\n",
       "severity level             0\n",
       "hospitalization charges    0\n",
       "dtype: int64"
      ]
     },
     "execution_count": 10,
     "metadata": {},
     "output_type": "execute_result"
    }
   ],
   "source": [
    "#missing values\n",
    "data.isna().sum()"
   ]
  },
  {
   "cell_type": "code",
   "execution_count": 15,
   "id": "361f4149",
   "metadata": {},
   "outputs": [
    {
     "data": {
      "text/html": [
       "<div>\n",
       "<style scoped>\n",
       "    .dataframe tbody tr th:only-of-type {\n",
       "        vertical-align: middle;\n",
       "    }\n",
       "\n",
       "    .dataframe tbody tr th {\n",
       "        vertical-align: top;\n",
       "    }\n",
       "\n",
       "    .dataframe thead th {\n",
       "        text-align: right;\n",
       "    }\n",
       "</style>\n",
       "<table border=\"1\" class=\"dataframe\">\n",
       "  <thead>\n",
       "    <tr style=\"text-align: right;\">\n",
       "      <th></th>\n",
       "      <th>age</th>\n",
       "      <th>sex</th>\n",
       "      <th>smoker</th>\n",
       "      <th>region</th>\n",
       "      <th>viral load</th>\n",
       "      <th>severity level</th>\n",
       "      <th>hospitalization charges</th>\n",
       "    </tr>\n",
       "  </thead>\n",
       "  <tbody>\n",
       "    <tr>\n",
       "      <th>0</th>\n",
       "      <td>19</td>\n",
       "      <td>female</td>\n",
       "      <td>yes</td>\n",
       "      <td>southwest</td>\n",
       "      <td>9.30</td>\n",
       "      <td>0</td>\n",
       "      <td>42212</td>\n",
       "    </tr>\n",
       "    <tr>\n",
       "      <th>1</th>\n",
       "      <td>18</td>\n",
       "      <td>male</td>\n",
       "      <td>no</td>\n",
       "      <td>southeast</td>\n",
       "      <td>11.26</td>\n",
       "      <td>1</td>\n",
       "      <td>4314</td>\n",
       "    </tr>\n",
       "    <tr>\n",
       "      <th>2</th>\n",
       "      <td>28</td>\n",
       "      <td>male</td>\n",
       "      <td>no</td>\n",
       "      <td>southeast</td>\n",
       "      <td>11.00</td>\n",
       "      <td>3</td>\n",
       "      <td>11124</td>\n",
       "    </tr>\n",
       "    <tr>\n",
       "      <th>3</th>\n",
       "      <td>33</td>\n",
       "      <td>male</td>\n",
       "      <td>no</td>\n",
       "      <td>northwest</td>\n",
       "      <td>7.57</td>\n",
       "      <td>0</td>\n",
       "      <td>54961</td>\n",
       "    </tr>\n",
       "    <tr>\n",
       "      <th>4</th>\n",
       "      <td>32</td>\n",
       "      <td>male</td>\n",
       "      <td>no</td>\n",
       "      <td>northwest</td>\n",
       "      <td>9.63</td>\n",
       "      <td>0</td>\n",
       "      <td>9667</td>\n",
       "    </tr>\n",
       "    <tr>\n",
       "      <th>...</th>\n",
       "      <td>...</td>\n",
       "      <td>...</td>\n",
       "      <td>...</td>\n",
       "      <td>...</td>\n",
       "      <td>...</td>\n",
       "      <td>...</td>\n",
       "      <td>...</td>\n",
       "    </tr>\n",
       "    <tr>\n",
       "      <th>1333</th>\n",
       "      <td>50</td>\n",
       "      <td>male</td>\n",
       "      <td>no</td>\n",
       "      <td>northwest</td>\n",
       "      <td>10.32</td>\n",
       "      <td>3</td>\n",
       "      <td>26501</td>\n",
       "    </tr>\n",
       "    <tr>\n",
       "      <th>1334</th>\n",
       "      <td>18</td>\n",
       "      <td>female</td>\n",
       "      <td>no</td>\n",
       "      <td>northeast</td>\n",
       "      <td>10.64</td>\n",
       "      <td>0</td>\n",
       "      <td>5515</td>\n",
       "    </tr>\n",
       "    <tr>\n",
       "      <th>1335</th>\n",
       "      <td>18</td>\n",
       "      <td>female</td>\n",
       "      <td>no</td>\n",
       "      <td>southeast</td>\n",
       "      <td>12.28</td>\n",
       "      <td>0</td>\n",
       "      <td>4075</td>\n",
       "    </tr>\n",
       "    <tr>\n",
       "      <th>1336</th>\n",
       "      <td>21</td>\n",
       "      <td>female</td>\n",
       "      <td>no</td>\n",
       "      <td>southwest</td>\n",
       "      <td>8.60</td>\n",
       "      <td>0</td>\n",
       "      <td>5020</td>\n",
       "    </tr>\n",
       "    <tr>\n",
       "      <th>1337</th>\n",
       "      <td>61</td>\n",
       "      <td>female</td>\n",
       "      <td>yes</td>\n",
       "      <td>northwest</td>\n",
       "      <td>9.69</td>\n",
       "      <td>0</td>\n",
       "      <td>72853</td>\n",
       "    </tr>\n",
       "  </tbody>\n",
       "</table>\n",
       "<p>1199 rows × 7 columns</p>\n",
       "</div>"
      ],
      "text/plain": [
       "      age     sex smoker     region  viral load  severity level  \\\n",
       "0      19  female    yes  southwest        9.30               0   \n",
       "1      18    male     no  southeast       11.26               1   \n",
       "2      28    male     no  southeast       11.00               3   \n",
       "3      33    male     no  northwest        7.57               0   \n",
       "4      32    male     no  northwest        9.63               0   \n",
       "...   ...     ...    ...        ...         ...             ...   \n",
       "1333   50    male     no  northwest       10.32               3   \n",
       "1334   18  female     no  northeast       10.64               0   \n",
       "1335   18  female     no  southeast       12.28               0   \n",
       "1336   21  female     no  southwest        8.60               0   \n",
       "1337   61  female    yes  northwest        9.69               0   \n",
       "\n",
       "      hospitalization charges  \n",
       "0                       42212  \n",
       "1                        4314  \n",
       "2                       11124  \n",
       "3                       54961  \n",
       "4                        9667  \n",
       "...                       ...  \n",
       "1333                    26501  \n",
       "1334                     5515  \n",
       "1335                     4075  \n",
       "1336                     5020  \n",
       "1337                    72853  \n",
       "\n",
       "[1199 rows x 7 columns]"
      ]
     },
     "execution_count": 15,
     "metadata": {},
     "output_type": "execute_result"
    }
   ],
   "source": [
    "#outlier treatment for hospitalization charges\n",
    "purchase_h=data['hospitalization charges']\n",
    "qm1=np.quantile(purchase_h,0.25)\n",
    "qm3=np.quantile(purchase_h,0.75)\n",
    "iqrm=qm3-qm1\n",
    "upper_bound_m=qm3+(1.5*iqrm)\n",
    "lower_bound_m=qm1-(1.5*iqrm)\n",
    "data=data[data['hospitalization charges']>lower_bound_m]\n",
    "data=data[data['hospitalization charges']<upper_bound_m]\n",
    "data"
   ]
  },
  {
   "cell_type": "code",
   "execution_count": 16,
   "id": "797b1725",
   "metadata": {},
   "outputs": [
    {
     "data": {
      "text/plain": [
       "<AxesSubplot:xlabel='smoker', ylabel='hospitalization charges'>"
      ]
     },
     "execution_count": 16,
     "metadata": {},
     "output_type": "execute_result"
    },
    {
     "data": {
      "image/png": "[encoded data removed]",
      "text/plain": [
       "<Figure size 720x648 with 6 Axes>"
      ]
     },
     "metadata": {
      "needs_background": "light"
     },
     "output_type": "display_data"
    },
    {
     "data": {
      "image/png": "[encoded data removed]",
      "text/plain": [
       "<Figure size 720x720 with 4 Axes>"
      ]
     },
     "metadata": {
      "needs_background": "light"
     },
     "output_type": "display_data"
    }
   ],
   "source": [
    "# Visual Analysis of data \n",
    "figure, axes = plt.subplots(nrows=3, ncols=2)\n",
    "plt.tight_layout()\n",
    "figure.set_size_inches(10,9)\n",
    "sns.barplot(x='sex', y='viral load', data=data, ax=axes[0,0],hue=data['smoker'])\n",
    "sns.barplot(x='sex', y='severity level', data=data, ax=axes[0,1],hue=data['smoker'])\n",
    "sns.barplot(x='severity level', y='hospitalization charges', data=data, ax=axes[1,0])\n",
    "sns.barplot(x='smoker', y='hospitalization charges', data=data, ax=axes[1,1])\n",
    "sns.barplot(x='region', y='hospitalization charges', data=data, ax=axes[2,0])\n",
    "sns.barplot(x='region', y='hospitalization charges', data=data, ax=axes[2,0],hue=data['sex'])\n",
    "sns.barplot(x='region', y='hospitalization charges', data=data, ax=axes[2,1],hue=data['smoker'])\n",
    "\n",
    "figure, axes = plt.subplots(nrows=2, ncols=2)\n",
    "plt.tight_layout()\n",
    "figure.set_size_inches(10,10)\n",
    "\n",
    "sns.boxplot(x='sex', y='viral load', data=data, ax=axes[0,0],hue=data['smoker'])\n",
    "sns.boxplot(x='sex', y='severity level', data=data, ax=axes[0,1],hue=data['smoker'])\n",
    "sns.boxplot(x='severity level', y='hospitalization charges', data=data, ax=axes[1,0])\n",
    "sns.boxplot(x='smoker', y='hospitalization charges', data=data, ax=axes[1,1])\n",
    "sns.boxplot(x='smoker', y='hospitalization charges', data=data, ax=axes[1,1])"
   ]
  },
  {
   "cell_type": "code",
   "execution_count": 58,
   "id": "51d0d58a",
   "metadata": {},
   "outputs": [
    {
     "data": {
      "text/plain": [
       "<AxesSubplot:>"
      ]
     },
     "execution_count": 58,
     "metadata": {},
     "output_type": "execute_result"
    },
    {
     "data": {
      "image/png": "[encoded data removed]",
      "text/plain": [
       "<Figure size 432x288 with 2 Axes>"
      ]
     },
     "metadata": {
      "needs_background": "light"
     },
     "output_type": "display_data"
    }
   ],
   "source": [
    "sns.heatmap(\n",
    "    data.corr(),\n",
    "    annot=True\n",
    ")"
   ]
  },
  {
   "cell_type": "markdown",
   "id": "9bd47eb3",
   "metadata": {},
   "source": [
    "### Hospitalization of people who do smoking is greater than those who don't"
   ]
  },
  {
   "cell_type": "code",
   "execution_count": 28,
   "id": "cdf0d897",
   "metadata": {},
   "outputs": [],
   "source": [
    "# Specify the samples which needs to be used for given hypothesis\n",
    "var1 = data[data['smoker']=='yes']['hospitalization charges']\n",
    "var2 = data[data['smoker']=='no']['hospitalization charges']"
   ]
  },
  {
   "cell_type": "code",
   "execution_count": 29,
   "id": "d8e4790b",
   "metadata": {},
   "outputs": [
    {
     "data": {
      "text/plain": [
       "(138,)"
      ]
     },
     "execution_count": 29,
     "metadata": {},
     "output_type": "execute_result"
    }
   ],
   "source": [
    "var1.shape"
   ]
  },
  {
   "cell_type": "code",
   "execution_count": 30,
   "id": "e5a2604b",
   "metadata": {},
   "outputs": [
    {
     "data": {
      "text/plain": [
       "(1061,)"
      ]
     },
     "execution_count": 30,
     "metadata": {},
     "output_type": "execute_result"
    }
   ],
   "source": [
    "var2.shape"
   ]
  },
  {
   "cell_type": "markdown",
   "id": "19881c18",
   "metadata": {},
   "source": [
    "#### Setting up Null Hypothesis and Alternate Hypothesis\n",
    "##### H0 : mean of Hospitalization who smokes < mean of Hospitalization who don't smoke\n",
    "\n",
    "##### H1 : mean of Hospitalization who smokes > mean of Hospitalization who don't smoke"
   ]
  },
  {
   "cell_type": "code",
   "execution_count": 38,
   "id": "68cdcdc3",
   "metadata": {},
   "outputs": [
    {
     "data": {
      "text/plain": [
       "(26.098730863028162, 1.563246110927035e-119)"
      ]
     },
     "execution_count": 38,
     "metadata": {},
     "output_type": "execute_result"
    }
   ],
   "source": [
    "# Test statistic for right tailed T test\n",
    "(stat, p_val) = stats.ttest_ind(var1, var2, alternative='greater')\n",
    "stat, p_val"
   ]
  },
  {
   "cell_type": "raw",
   "id": "9867e5a0",
   "metadata": {},
   "source": [
    "By comparing pvalue with significance level of 0.05, we can reject null hypothesis.\n",
    "hospitalization of people who do smoking is not greater than those who don't smoke."
   ]
  },
  {
   "cell_type": "code",
   "execution_count": null,
   "id": "fd1af933",
   "metadata": {},
   "outputs": [],
   "source": []
  },
  {
   "cell_type": "markdown",
   "id": "5e76a5c2",
   "metadata": {},
   "source": [
    "### Statistical evidence that the viral load of females is different from that of males"
   ]
  },
  {
   "cell_type": "code",
   "execution_count": 41,
   "id": "ab9cee33",
   "metadata": {},
   "outputs": [],
   "source": [
    "# Specify the samples which needs to be used for given hypothesis\n",
    "var1 = data[data['sex']=='female']['viral load']\n",
    "var2 = data[data['sex']=='male']['viral load']"
   ]
  },
  {
   "cell_type": "code",
   "execution_count": 42,
   "id": "c8cd2441",
   "metadata": {},
   "outputs": [
    {
     "data": {
      "text/plain": [
       "(612,)"
      ]
     },
     "execution_count": 42,
     "metadata": {},
     "output_type": "execute_result"
    }
   ],
   "source": [
    "var1.shape"
   ]
  },
  {
   "cell_type": "code",
   "execution_count": 43,
   "id": "2b33fb94",
   "metadata": {},
   "outputs": [
    {
     "data": {
      "text/plain": [
       "(587,)"
      ]
     },
     "execution_count": 43,
     "metadata": {},
     "output_type": "execute_result"
    }
   ],
   "source": [
    "var2.shape"
   ]
  },
  {
   "cell_type": "markdown",
   "id": "71551e80",
   "metadata": {},
   "source": [
    "#### Setting up Null Hypothesis and Alternate Hypothesis\n",
    "##### H0 : viral load of females = viral load of males\n",
    "\n",
    "##### H1 : viral load of females != viral load of males"
   ]
  },
  {
   "cell_type": "code",
   "execution_count": 45,
   "id": "e967b000",
   "metadata": {},
   "outputs": [
    {
     "data": {
      "text/plain": [
       "(-0.9460853706266092, 0.34429598282535334)"
      ]
     },
     "execution_count": 45,
     "metadata": {},
     "output_type": "execute_result"
    }
   ],
   "source": [
    "# Test statistic for two sided T test\n",
    "(stat, p_val) = stats.ttest_ind(var1, var2)\n",
    "stat, p_val"
   ]
  },
  {
   "cell_type": "raw",
   "id": "d22d107f",
   "metadata": {},
   "source": [
    "By comparing pvalue with significance level of 0.05, we fail to reject null hypothesis.\n",
    "viral load of females is different than that of males."
   ]
  },
  {
   "cell_type": "code",
   "execution_count": null,
   "id": "f8b1ce4d",
   "metadata": {},
   "outputs": [],
   "source": []
  },
  {
   "cell_type": "markdown",
   "id": "bb03927e",
   "metadata": {},
   "source": [
    "### Is the mean viral load of women with 0 Severity level , 1 Severity level, and 2 Severity level the same"
   ]
  },
  {
   "cell_type": "markdown",
   "id": "d6774972",
   "metadata": {},
   "source": [
    "###### Assumptions - "
   ]
  },
  {
   "cell_type": "markdown",
   "id": "b7788958",
   "metadata": {},
   "source": [
    "###### Shapiro-Wilk's Test"
   ]
  },
  {
   "cell_type": "code",
   "execution_count": null,
   "id": "5dd98af2",
   "metadata": {},
   "outputs": [],
   "source": [
    "# H0 = hospitalization charges follows normal distribution\n",
    "# h1 = hospitalization charges does not follow normal distribution"
   ]
  },
  {
   "cell_type": "code",
   "execution_count": 65,
   "id": "30721e47",
   "metadata": {},
   "outputs": [
    {
     "name": "stdout",
     "output_type": "stream",
     "text": [
      "The p-value is 2.0290016642889785e-18\n"
     ]
    }
   ],
   "source": [
    "from scipy.stats import shapiro\n",
    "\n",
    "w, p_value = shapiro(data['hospitalization charges'].sample(499)) \n",
    "print('The p-value is', p_value)"
   ]
  },
  {
   "cell_type": "markdown",
   "id": "459f3d72",
   "metadata": {},
   "source": [
    "hospitalization charges does not follow normal distribution"
   ]
  },
  {
   "cell_type": "code",
   "execution_count": 68,
   "id": "467eb905",
   "metadata": {},
   "outputs": [
    {
     "name": "stderr",
     "output_type": "stream",
     "text": [
      "d:\\testautomation\\python3\\lib\\site-packages\\seaborn\\distributions.py:2619: FutureWarning: `distplot` is a deprecated function and will be removed in a future version. Please adapt your code to use either `displot` (a figure-level function with similar flexibility) or `histplot` (an axes-level function for histograms).\n",
      "  warnings.warn(msg, FutureWarning)\n"
     ]
    },
    {
     "data": {
      "text/plain": [
       "<AxesSubplot:xlabel='hospitalization charges', ylabel='Density'>"
      ]
     },
     "execution_count": 68,
     "metadata": {},
     "output_type": "execute_result"
    },
    {
     "data": {
      "image/png": "[encoded data removed]",
      "text/plain": [
       "<Figure size 432x288 with 1 Axes>"
      ]
     },
     "metadata": {
      "needs_background": "light"
     },
     "output_type": "display_data"
    }
   ],
   "source": [
    "sns.distplot(data['hospitalization charges'].sample(499))"
   ]
  },
  {
   "cell_type": "code",
   "execution_count": 69,
   "id": "27a53152",
   "metadata": {},
   "outputs": [
    {
     "name": "stderr",
     "output_type": "stream",
     "text": [
      "d:\\testautomation\\python3\\lib\\site-packages\\seaborn\\distributions.py:2619: FutureWarning: `distplot` is a deprecated function and will be removed in a future version. Please adapt your code to use either `displot` (a figure-level function with similar flexibility) or `histplot` (an axes-level function for histograms).\n",
      "  warnings.warn(msg, FutureWarning)\n"
     ]
    },
    {
     "data": {
      "text/plain": [
       "<AxesSubplot:xlabel='hospitalization charges', ylabel='Density'>"
      ]
     },
     "execution_count": 69,
     "metadata": {},
     "output_type": "execute_result"
    },
    {
     "data": {
      "image/png": "[encoded data removed]",
      "text/plain": [
       "<Figure size 432x288 with 1 Axes>"
      ]
     },
     "metadata": {
      "needs_background": "light"
     },
     "output_type": "display_data"
    }
   ],
   "source": [
    "sns.distplot(np.log(data['hospitalization charges'].sample(499)))"
   ]
  },
  {
   "cell_type": "markdown",
   "id": "c76f1c8f",
   "metadata": {},
   "source": [
    "###### Leven's Test:"
   ]
  },
  {
   "cell_type": "code",
   "execution_count": null,
   "id": "b2c61cac",
   "metadata": {},
   "outputs": [],
   "source": [
    "# H0: All the variances are equal\n",
    "# H1: At least one variance is different from the rest"
   ]
  },
  {
   "cell_type": "code",
   "execution_count": 70,
   "id": "efcf1f9f",
   "metadata": {},
   "outputs": [],
   "source": [
    "data_f=data[data['sex']=='female']\n",
    "an_var1 = data_f[data_f['severity level']==0]['viral load']\n",
    "an_var2 = data_f[data_f['severity level']==1]['viral load']\n",
    "an_var3 = data_f[data_f['severity level']==2]['viral load']"
   ]
  },
  {
   "cell_type": "code",
   "execution_count": 71,
   "id": "e78fa3d2",
   "metadata": {},
   "outputs": [
    {
     "name": "stdout",
     "output_type": "stream",
     "text": [
      "The p-value is 0.3645585716859747\n"
     ]
    }
   ],
   "source": [
    "from scipy.stats import levene\n",
    "statistic, p_value = levene(an_var1, an_var2, an_var3)\n",
    "print('The p-value is', p_value)"
   ]
  },
  {
   "cell_type": "raw",
   "id": "c553d752",
   "metadata": {},
   "source": [
    "As the assumptions are working, we can go ahead with Anova test"
   ]
  },
  {
   "cell_type": "markdown",
   "id": "a036a480",
   "metadata": {},
   "source": [
    "#### setting up Null Hypothesis and Alternate Hypothesis for season - ANOVA\n",
    "##### H0 : mean of all the severity levels are equal\n",
    "\n",
    "##### H1 : mean of all the severity levels are not equal"
   ]
  },
  {
   "cell_type": "code",
   "execution_count": 61,
   "id": "44371b61",
   "metadata": {},
   "outputs": [
    {
     "data": {
      "image/png": "[encoded data removed]",
      "text/plain": [
       "<Figure size 432x288 with 1 Axes>"
      ]
     },
     "metadata": {
      "needs_background": "light"
     },
     "output_type": "display_data"
    },
    {
     "name": "stdout",
     "output_type": "stream",
     "text": [
      "F_onewayResult(statistic=0.07443469817375759, pvalue=0.9282779784079939)\n"
     ]
    }
   ],
   "source": [
    "plt.hist(an_var1, bins=25, alpha=0.45, color='red')\n",
    "plt.hist(an_var2, bins=25, alpha=0.45, color='blue')\n",
    "plt.hist(an_var3, bins=25, alpha=0.45, color='green')\n",
    "\n",
    "plt.legend(['sev0', 'sev1', 'sev2'])\n",
    "plt.show()\n",
    "print(stats.f_oneway(an_var1, an_var2, an_var3))"
   ]
  },
  {
   "cell_type": "raw",
   "id": "ca506964",
   "metadata": {},
   "source": [
    "As p_value is greater than signicance value of 0.05, we fail to reject null hypothesis.\n",
    "Viral load of woen with severity 0, 1, 2 are almost the same."
   ]
  },
  {
   "cell_type": "code",
   "execution_count": null,
   "id": "fd0f772f",
   "metadata": {},
   "outputs": [],
   "source": []
  },
  {
   "cell_type": "markdown",
   "id": "42b76a88",
   "metadata": {},
   "source": [
    "### proportion of smoking significantly different across different regions"
   ]
  },
  {
   "cell_type": "markdown",
   "id": "c5c215d8",
   "metadata": {},
   "source": [
    "#### Setting up Null Hypothesis and Alternate Hypothesis\n",
    "##### H0 : region and smoker are independent\n",
    "\n",
    "##### H1 : region and smoker are dependent"
   ]
  },
  {
   "cell_type": "code",
   "execution_count": 55,
   "id": "a1cb6583",
   "metadata": {},
   "outputs": [],
   "source": [
    "# Observed data for chi square test\n",
    "observed = pd.crosstab(data['region'], data['smoker'], margins=True)"
   ]
  },
  {
   "cell_type": "code",
   "execution_count": 56,
   "id": "3523d7d4",
   "metadata": {},
   "outputs": [
    {
     "data": {
      "text/html": [
       "<div>\n",
       "<style scoped>\n",
       "    .dataframe tbody tr th:only-of-type {\n",
       "        vertical-align: middle;\n",
       "    }\n",
       "\n",
       "    .dataframe tbody tr th {\n",
       "        vertical-align: top;\n",
       "    }\n",
       "\n",
       "    .dataframe thead th {\n",
       "        text-align: right;\n",
       "    }\n",
       "</style>\n",
       "<table border=\"1\" class=\"dataframe\">\n",
       "  <thead>\n",
       "    <tr style=\"text-align: right;\">\n",
       "      <th>smoker</th>\n",
       "      <th>no</th>\n",
       "      <th>yes</th>\n",
       "      <th>All</th>\n",
       "    </tr>\n",
       "    <tr>\n",
       "      <th>region</th>\n",
       "      <th></th>\n",
       "      <th></th>\n",
       "      <th></th>\n",
       "    </tr>\n",
       "  </thead>\n",
       "  <tbody>\n",
       "    <tr>\n",
       "      <th>northeast</th>\n",
       "      <td>257</td>\n",
       "      <td>39</td>\n",
       "      <td>296</td>\n",
       "    </tr>\n",
       "    <tr>\n",
       "      <th>northwest</th>\n",
       "      <td>267</td>\n",
       "      <td>38</td>\n",
       "      <td>305</td>\n",
       "    </tr>\n",
       "    <tr>\n",
       "      <th>southeast</th>\n",
       "      <td>272</td>\n",
       "      <td>35</td>\n",
       "      <td>307</td>\n",
       "    </tr>\n",
       "    <tr>\n",
       "      <th>southwest</th>\n",
       "      <td>265</td>\n",
       "      <td>26</td>\n",
       "      <td>291</td>\n",
       "    </tr>\n",
       "    <tr>\n",
       "      <th>All</th>\n",
       "      <td>1061</td>\n",
       "      <td>138</td>\n",
       "      <td>1199</td>\n",
       "    </tr>\n",
       "  </tbody>\n",
       "</table>\n",
       "</div>"
      ],
      "text/plain": [
       "smoker       no  yes   All\n",
       "region                    \n",
       "northeast   257   39   296\n",
       "northwest   267   38   305\n",
       "southeast   272   35   307\n",
       "southwest   265   26   291\n",
       "All        1061  138  1199"
      ]
     },
     "execution_count": 56,
     "metadata": {},
     "output_type": "execute_result"
    }
   ],
   "source": [
    "observed"
   ]
  },
  {
   "cell_type": "code",
   "execution_count": 57,
   "id": "1eb70bc1",
   "metadata": {},
   "outputs": [
    {
     "data": {
      "text/plain": [
       "(2.9745627841799864,\n",
       " 0.9359437015231419,\n",
       " 8,\n",
       " array([[ 261.93160967,   34.06839033,  296.        ],\n",
       "        [ 269.89574646,   35.10425354,  305.        ],\n",
       "        [ 271.66555463,   35.33444537,  307.        ],\n",
       "        [ 257.50708924,   33.49291076,  291.        ],\n",
       "        [1061.        ,  138.        , 1199.        ]]))"
      ]
     },
     "execution_count": 57,
     "metadata": {},
     "output_type": "execute_result"
    }
   ],
   "source": [
    "# Test statistics, pvalue and degree of freedom\n",
    "# Expected values to be compare with Observed for test statistics and pvalue of chi-square test.\n",
    "stats.chi2_contingency(observed= observed)"
   ]
  },
  {
   "cell_type": "raw",
   "id": "34131552",
   "metadata": {},
   "source": [
    "As pvalue is greater than significance value of 0.05, thus we fail to reject null hypothesis.\n",
    "As per the hypothesis, region and smoker are independent."
   ]
  },
  {
   "cell_type": "code",
   "execution_count": null,
   "id": "c664b4e0",
   "metadata": {},
   "outputs": [],
   "source": []
  }
 ],
 "metadata": {
  "kernelspec": {
   "display_name": "Python 3 (ipykernel)",
   "language": "python",
   "name": "python3"
  },
  "language_info": {
   "codemirror_mode": {
    "name": "ipython",
    "version": 3
   },
   "file_extension": ".py",
   "mimetype": "text/x-python",
   "name": "python",
   "nbconvert_exporter": "python",
   "pygments_lexer": "ipython3",
   "version": "3.9.6"
  }
 },
 "nbformat": 4,
 "nbformat_minor": 5
}
