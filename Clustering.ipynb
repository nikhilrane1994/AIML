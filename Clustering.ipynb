{
 "cells": [
  {
   "cell_type": "code",
   "execution_count": 1,
   "id": "998d183a",
   "metadata": {},
   "outputs": [],
   "source": [
    "import pandas as pd\n",
    "import numpy as np\n",
    "import seaborn as sns\n",
    "from datetime import datetime"
   ]
  },
  {
   "cell_type": "code",
   "execution_count": 2,
   "id": "5327b105",
   "metadata": {},
   "outputs": [],
   "source": [
    "df=pd.read_csv(\"scaler_clustering.csv\")"
   ]
  },
  {
   "cell_type": "code",
   "execution_count": 3,
   "id": "237b95ee",
   "metadata": {},
   "outputs": [],
   "source": [
    "df.drop(columns='Unnamed: 0',inplace=True)"
   ]
  },
  {
   "cell_type": "code",
   "execution_count": 4,
   "id": "5e84d19f",
   "metadata": {},
   "outputs": [
    {
     "data": {
      "text/html": [
       "<div>\n",
       "<style scoped>\n",
       "    .dataframe tbody tr th:only-of-type {\n",
       "        vertical-align: middle;\n",
       "    }\n",
       "\n",
       "    .dataframe tbody tr th {\n",
       "        vertical-align: top;\n",
       "    }\n",
       "\n",
       "    .dataframe thead th {\n",
       "        text-align: right;\n",
       "    }\n",
       "</style>\n",
       "<table border=\"1\" class=\"dataframe\">\n",
       "  <thead>\n",
       "    <tr style=\"text-align: right;\">\n",
       "      <th></th>\n",
       "      <th>company_hash</th>\n",
       "      <th>email_hash</th>\n",
       "      <th>orgyear</th>\n",
       "      <th>ctc</th>\n",
       "      <th>job_position</th>\n",
       "      <th>ctc_updated_year</th>\n",
       "    </tr>\n",
       "  </thead>\n",
       "  <tbody>\n",
       "    <tr>\n",
       "      <th>0</th>\n",
       "      <td>atrgxnnt xzaxv</td>\n",
       "      <td>6de0a4417d18ab14334c3f43397fc13b30c35149d70c05...</td>\n",
       "      <td>2016.0</td>\n",
       "      <td>1100000</td>\n",
       "      <td>Other</td>\n",
       "      <td>2020.0</td>\n",
       "    </tr>\n",
       "    <tr>\n",
       "      <th>1</th>\n",
       "      <td>qtrxvzwt xzegwgbb rxbxnta</td>\n",
       "      <td>b0aaf1ac138b53cb6e039ba2c3d6604a250d02d5145c10...</td>\n",
       "      <td>2018.0</td>\n",
       "      <td>449999</td>\n",
       "      <td>FullStack Engineer</td>\n",
       "      <td>2019.0</td>\n",
       "    </tr>\n",
       "    <tr>\n",
       "      <th>2</th>\n",
       "      <td>ojzwnvwnxw vx</td>\n",
       "      <td>4860c670bcd48fb96c02a4b0ae3608ae6fdd98176112e9...</td>\n",
       "      <td>2015.0</td>\n",
       "      <td>2000000</td>\n",
       "      <td>Backend Engineer</td>\n",
       "      <td>2020.0</td>\n",
       "    </tr>\n",
       "    <tr>\n",
       "      <th>3</th>\n",
       "      <td>ngpgutaxv</td>\n",
       "      <td>effdede7a2e7c2af664c8a31d9346385016128d66bbc58...</td>\n",
       "      <td>2017.0</td>\n",
       "      <td>700000</td>\n",
       "      <td>Backend Engineer</td>\n",
       "      <td>2019.0</td>\n",
       "    </tr>\n",
       "    <tr>\n",
       "      <th>4</th>\n",
       "      <td>qxen sqghu</td>\n",
       "      <td>6ff54e709262f55cb999a1c1db8436cb2055d8f79ab520...</td>\n",
       "      <td>2017.0</td>\n",
       "      <td>1400000</td>\n",
       "      <td>FullStack Engineer</td>\n",
       "      <td>2019.0</td>\n",
       "    </tr>\n",
       "    <tr>\n",
       "      <th>...</th>\n",
       "      <td>...</td>\n",
       "      <td>...</td>\n",
       "      <td>...</td>\n",
       "      <td>...</td>\n",
       "      <td>...</td>\n",
       "      <td>...</td>\n",
       "    </tr>\n",
       "    <tr>\n",
       "      <th>205838</th>\n",
       "      <td>vuurt xzw</td>\n",
       "      <td>70027b728c8ee901fe979533ed94ffda97be08fc23f33b...</td>\n",
       "      <td>2008.0</td>\n",
       "      <td>220000</td>\n",
       "      <td>NaN</td>\n",
       "      <td>2019.0</td>\n",
       "    </tr>\n",
       "    <tr>\n",
       "      <th>205839</th>\n",
       "      <td>husqvawgb</td>\n",
       "      <td>7f7292ffad724ebbe9ca860f515245368d714c84705b42...</td>\n",
       "      <td>2017.0</td>\n",
       "      <td>500000</td>\n",
       "      <td>NaN</td>\n",
       "      <td>2020.0</td>\n",
       "    </tr>\n",
       "    <tr>\n",
       "      <th>205840</th>\n",
       "      <td>vwwgrxnt</td>\n",
       "      <td>cb25cc7304e9a24facda7f5567c7922ffc48e3d5d6018c...</td>\n",
       "      <td>2021.0</td>\n",
       "      <td>700000</td>\n",
       "      <td>NaN</td>\n",
       "      <td>2021.0</td>\n",
       "    </tr>\n",
       "    <tr>\n",
       "      <th>205841</th>\n",
       "      <td>zgn vuurxwvmrt</td>\n",
       "      <td>fb46a1a2752f5f652ce634f6178d0578ef6995ee59f6c8...</td>\n",
       "      <td>2019.0</td>\n",
       "      <td>5100000</td>\n",
       "      <td>NaN</td>\n",
       "      <td>2019.0</td>\n",
       "    </tr>\n",
       "    <tr>\n",
       "      <th>205842</th>\n",
       "      <td>bgqsvz onvzrtj</td>\n",
       "      <td>0bcfc1d05f2e8dc4147743a1313aa70a119b41b30d4a1f...</td>\n",
       "      <td>2014.0</td>\n",
       "      <td>1240000</td>\n",
       "      <td>NaN</td>\n",
       "      <td>2016.0</td>\n",
       "    </tr>\n",
       "  </tbody>\n",
       "</table>\n",
       "<p>205843 rows × 6 columns</p>\n",
       "</div>"
      ],
      "text/plain": [
       "                     company_hash  \\\n",
       "0                  atrgxnnt xzaxv   \n",
       "1       qtrxvzwt xzegwgbb rxbxnta   \n",
       "2                   ojzwnvwnxw vx   \n",
       "3                       ngpgutaxv   \n",
       "4                      qxen sqghu   \n",
       "...                           ...   \n",
       "205838                  vuurt xzw   \n",
       "205839                  husqvawgb   \n",
       "205840                   vwwgrxnt   \n",
       "205841             zgn vuurxwvmrt   \n",
       "205842             bgqsvz onvzrtj   \n",
       "\n",
       "                                               email_hash  orgyear      ctc  \\\n",
       "0       6de0a4417d18ab14334c3f43397fc13b30c35149d70c05...   2016.0  1100000   \n",
       "1       b0aaf1ac138b53cb6e039ba2c3d6604a250d02d5145c10...   2018.0   449999   \n",
       "2       4860c670bcd48fb96c02a4b0ae3608ae6fdd98176112e9...   2015.0  2000000   \n",
       "3       effdede7a2e7c2af664c8a31d9346385016128d66bbc58...   2017.0   700000   \n",
       "4       6ff54e709262f55cb999a1c1db8436cb2055d8f79ab520...   2017.0  1400000   \n",
       "...                                                   ...      ...      ...   \n",
       "205838  70027b728c8ee901fe979533ed94ffda97be08fc23f33b...   2008.0   220000   \n",
       "205839  7f7292ffad724ebbe9ca860f515245368d714c84705b42...   2017.0   500000   \n",
       "205840  cb25cc7304e9a24facda7f5567c7922ffc48e3d5d6018c...   2021.0   700000   \n",
       "205841  fb46a1a2752f5f652ce634f6178d0578ef6995ee59f6c8...   2019.0  5100000   \n",
       "205842  0bcfc1d05f2e8dc4147743a1313aa70a119b41b30d4a1f...   2014.0  1240000   \n",
       "\n",
       "              job_position  ctc_updated_year  \n",
       "0                    Other            2020.0  \n",
       "1       FullStack Engineer            2019.0  \n",
       "2         Backend Engineer            2020.0  \n",
       "3         Backend Engineer            2019.0  \n",
       "4       FullStack Engineer            2019.0  \n",
       "...                    ...               ...  \n",
       "205838                 NaN            2019.0  \n",
       "205839                 NaN            2020.0  \n",
       "205840                 NaN            2021.0  \n",
       "205841                 NaN            2019.0  \n",
       "205842                 NaN            2016.0  \n",
       "\n",
       "[205843 rows x 6 columns]"
      ]
     },
     "execution_count": 4,
     "metadata": {},
     "output_type": "execute_result"
    }
   ],
   "source": [
    "df"
   ]
  },
  {
   "cell_type": "code",
   "execution_count": 5,
   "id": "f00bef0f",
   "metadata": {},
   "outputs": [
    {
     "data": {
      "text/plain": [
       "company_hash           44\n",
       "email_hash              0\n",
       "orgyear                86\n",
       "ctc                     0\n",
       "job_position        52562\n",
       "ctc_updated_year        0\n",
       "dtype: int64"
      ]
     },
     "execution_count": 5,
     "metadata": {},
     "output_type": "execute_result"
    }
   ],
   "source": [
    "df.isna().sum()"
   ]
  },
  {
   "cell_type": "markdown",
   "id": "2db75769",
   "metadata": {},
   "source": [
    "df.describe()"
   ]
  },
  {
   "cell_type": "code",
   "execution_count": 6,
   "id": "afdd5a03",
   "metadata": {},
   "outputs": [],
   "source": [
    "df.drop_duplicates(inplace=True)\n"
   ]
  },
  {
   "cell_type": "markdown",
   "id": "ca150a06",
   "metadata": {},
   "source": [
    "## Handle missing values"
   ]
  },
  {
   "cell_type": "markdown",
   "id": "cea6ab06",
   "metadata": {},
   "source": [
    "def missing_values_table(df):\n",
    "        # Total missing values\n",
    "        mis_val = df.isnull().sum()\n",
    "        \n",
    "        # Percentage of missing values\n",
    "        mis_val_percent = 100 * df.isnull().sum() / len(df)\n",
    "        \n",
    "        # Make a table with the results\n",
    "        mis_val_table = pd.concat([mis_val, mis_val_percent], axis=1)\n",
    "        \n",
    "        # Rename the columns\n",
    "        mis_val_table_ren_columns = mis_val_table.rename(\n",
    "        columns = {0 : 'Missing Values', 1 : '% of Total Values'})\n",
    "        \n",
    "        # Sort the table by percentage of missing descending\n",
    "        mis_val_table_ren_columns = mis_val_table_ren_columns[\n",
    "            mis_val_table_ren_columns.iloc[:,1] != 0].sort_values(\n",
    "        '% of Total Values', ascending=False).round(1)\n",
    "        return mis_val_table_ren_columns\n",
    "    \n",
    "missing_values_table(df)"
   ]
  },
  {
   "cell_type": "code",
   "execution_count": 7,
   "id": "5c607e23",
   "metadata": {},
   "outputs": [],
   "source": [
    "df['job_position'].fillna('other',inplace=True)"
   ]
  },
  {
   "cell_type": "code",
   "execution_count": 8,
   "id": "d3569402",
   "metadata": {},
   "outputs": [
    {
     "data": {
      "text/html": [
       "<div>\n",
       "<style scoped>\n",
       "    .dataframe tbody tr th:only-of-type {\n",
       "        vertical-align: middle;\n",
       "    }\n",
       "\n",
       "    .dataframe tbody tr th {\n",
       "        vertical-align: top;\n",
       "    }\n",
       "\n",
       "    .dataframe thead th {\n",
       "        text-align: right;\n",
       "    }\n",
       "</style>\n",
       "<table border=\"1\" class=\"dataframe\">\n",
       "  <thead>\n",
       "    <tr style=\"text-align: right;\">\n",
       "      <th></th>\n",
       "      <th>company_hash</th>\n",
       "      <th>email_hash</th>\n",
       "      <th>orgyear</th>\n",
       "      <th>ctc</th>\n",
       "      <th>job_position</th>\n",
       "      <th>ctc_updated_year</th>\n",
       "    </tr>\n",
       "  </thead>\n",
       "  <tbody>\n",
       "    <tr>\n",
       "      <th>0</th>\n",
       "      <td>atrgxnnt xzaxv</td>\n",
       "      <td>6de0a4417d18ab14334c3f43397fc13b30c35149d70c05...</td>\n",
       "      <td>2016.0</td>\n",
       "      <td>1100000</td>\n",
       "      <td>Other</td>\n",
       "      <td>2020.0</td>\n",
       "    </tr>\n",
       "    <tr>\n",
       "      <th>1</th>\n",
       "      <td>qtrxvzwt xzegwgbb rxbxnta</td>\n",
       "      <td>b0aaf1ac138b53cb6e039ba2c3d6604a250d02d5145c10...</td>\n",
       "      <td>2018.0</td>\n",
       "      <td>449999</td>\n",
       "      <td>FullStack Engineer</td>\n",
       "      <td>2019.0</td>\n",
       "    </tr>\n",
       "    <tr>\n",
       "      <th>2</th>\n",
       "      <td>ojzwnvwnxw vx</td>\n",
       "      <td>4860c670bcd48fb96c02a4b0ae3608ae6fdd98176112e9...</td>\n",
       "      <td>2015.0</td>\n",
       "      <td>2000000</td>\n",
       "      <td>Backend Engineer</td>\n",
       "      <td>2020.0</td>\n",
       "    </tr>\n",
       "    <tr>\n",
       "      <th>3</th>\n",
       "      <td>ngpgutaxv</td>\n",
       "      <td>effdede7a2e7c2af664c8a31d9346385016128d66bbc58...</td>\n",
       "      <td>2017.0</td>\n",
       "      <td>700000</td>\n",
       "      <td>Backend Engineer</td>\n",
       "      <td>2019.0</td>\n",
       "    </tr>\n",
       "    <tr>\n",
       "      <th>4</th>\n",
       "      <td>qxen sqghu</td>\n",
       "      <td>6ff54e709262f55cb999a1c1db8436cb2055d8f79ab520...</td>\n",
       "      <td>2017.0</td>\n",
       "      <td>1400000</td>\n",
       "      <td>FullStack Engineer</td>\n",
       "      <td>2019.0</td>\n",
       "    </tr>\n",
       "    <tr>\n",
       "      <th>...</th>\n",
       "      <td>...</td>\n",
       "      <td>...</td>\n",
       "      <td>...</td>\n",
       "      <td>...</td>\n",
       "      <td>...</td>\n",
       "      <td>...</td>\n",
       "    </tr>\n",
       "    <tr>\n",
       "      <th>205838</th>\n",
       "      <td>vuurt xzw</td>\n",
       "      <td>70027b728c8ee901fe979533ed94ffda97be08fc23f33b...</td>\n",
       "      <td>2008.0</td>\n",
       "      <td>220000</td>\n",
       "      <td>other</td>\n",
       "      <td>2019.0</td>\n",
       "    </tr>\n",
       "    <tr>\n",
       "      <th>205839</th>\n",
       "      <td>husqvawgb</td>\n",
       "      <td>7f7292ffad724ebbe9ca860f515245368d714c84705b42...</td>\n",
       "      <td>2017.0</td>\n",
       "      <td>500000</td>\n",
       "      <td>other</td>\n",
       "      <td>2020.0</td>\n",
       "    </tr>\n",
       "    <tr>\n",
       "      <th>205840</th>\n",
       "      <td>vwwgrxnt</td>\n",
       "      <td>cb25cc7304e9a24facda7f5567c7922ffc48e3d5d6018c...</td>\n",
       "      <td>2021.0</td>\n",
       "      <td>700000</td>\n",
       "      <td>other</td>\n",
       "      <td>2021.0</td>\n",
       "    </tr>\n",
       "    <tr>\n",
       "      <th>205841</th>\n",
       "      <td>zgn vuurxwvmrt</td>\n",
       "      <td>fb46a1a2752f5f652ce634f6178d0578ef6995ee59f6c8...</td>\n",
       "      <td>2019.0</td>\n",
       "      <td>5100000</td>\n",
       "      <td>other</td>\n",
       "      <td>2019.0</td>\n",
       "    </tr>\n",
       "    <tr>\n",
       "      <th>205842</th>\n",
       "      <td>bgqsvz onvzrtj</td>\n",
       "      <td>0bcfc1d05f2e8dc4147743a1313aa70a119b41b30d4a1f...</td>\n",
       "      <td>2014.0</td>\n",
       "      <td>1240000</td>\n",
       "      <td>other</td>\n",
       "      <td>2016.0</td>\n",
       "    </tr>\n",
       "  </tbody>\n",
       "</table>\n",
       "<p>205810 rows × 6 columns</p>\n",
       "</div>"
      ],
      "text/plain": [
       "                     company_hash  \\\n",
       "0                  atrgxnnt xzaxv   \n",
       "1       qtrxvzwt xzegwgbb rxbxnta   \n",
       "2                   ojzwnvwnxw vx   \n",
       "3                       ngpgutaxv   \n",
       "4                      qxen sqghu   \n",
       "...                           ...   \n",
       "205838                  vuurt xzw   \n",
       "205839                  husqvawgb   \n",
       "205840                   vwwgrxnt   \n",
       "205841             zgn vuurxwvmrt   \n",
       "205842             bgqsvz onvzrtj   \n",
       "\n",
       "                                               email_hash  orgyear      ctc  \\\n",
       "0       6de0a4417d18ab14334c3f43397fc13b30c35149d70c05...   2016.0  1100000   \n",
       "1       b0aaf1ac138b53cb6e039ba2c3d6604a250d02d5145c10...   2018.0   449999   \n",
       "2       4860c670bcd48fb96c02a4b0ae3608ae6fdd98176112e9...   2015.0  2000000   \n",
       "3       effdede7a2e7c2af664c8a31d9346385016128d66bbc58...   2017.0   700000   \n",
       "4       6ff54e709262f55cb999a1c1db8436cb2055d8f79ab520...   2017.0  1400000   \n",
       "...                                                   ...      ...      ...   \n",
       "205838  70027b728c8ee901fe979533ed94ffda97be08fc23f33b...   2008.0   220000   \n",
       "205839  7f7292ffad724ebbe9ca860f515245368d714c84705b42...   2017.0   500000   \n",
       "205840  cb25cc7304e9a24facda7f5567c7922ffc48e3d5d6018c...   2021.0   700000   \n",
       "205841  fb46a1a2752f5f652ce634f6178d0578ef6995ee59f6c8...   2019.0  5100000   \n",
       "205842  0bcfc1d05f2e8dc4147743a1313aa70a119b41b30d4a1f...   2014.0  1240000   \n",
       "\n",
       "              job_position  ctc_updated_year  \n",
       "0                    Other            2020.0  \n",
       "1       FullStack Engineer            2019.0  \n",
       "2         Backend Engineer            2020.0  \n",
       "3         Backend Engineer            2019.0  \n",
       "4       FullStack Engineer            2019.0  \n",
       "...                    ...               ...  \n",
       "205838               other            2019.0  \n",
       "205839               other            2020.0  \n",
       "205840               other            2021.0  \n",
       "205841               other            2019.0  \n",
       "205842               other            2016.0  \n",
       "\n",
       "[205810 rows x 6 columns]"
      ]
     },
     "execution_count": 8,
     "metadata": {},
     "output_type": "execute_result"
    }
   ],
   "source": [
    "df"
   ]
  },
  {
   "cell_type": "markdown",
   "id": "da802c5c",
   "metadata": {},
   "source": [
    "# Univariate Analysis"
   ]
  },
  {
   "cell_type": "code",
   "execution_count": 9,
   "id": "cf907f5a",
   "metadata": {},
   "outputs": [
    {
     "data": {
      "text/plain": [
       "Index(['company_hash', 'email_hash', 'orgyear', 'ctc', 'job_position',\n",
       "       'ctc_updated_year'],\n",
       "      dtype='object')"
      ]
     },
     "execution_count": 9,
     "metadata": {},
     "output_type": "execute_result"
    }
   ],
   "source": [
    "df.columns"
   ]
  },
  {
   "cell_type": "code",
   "execution_count": 10,
   "id": "6d60f45c",
   "metadata": {},
   "outputs": [
    {
     "data": {
      "text/plain": [
       "bbace3cc586400bbc65765bc6a16b77d8913836cfc98b77c05488f02f5714a4b    10\n",
       "3e5e49daa5527a6d5a33599b238bf9bf31e85b9efa9a94f1c88c5e15a6f31378     9\n",
       "6842660273f70e9aa239026ba33bfe82275d6ab0d20124021b952b5bc3d07e6c     9\n",
       "298528ce3160cc761e4dc37a07337ee2e0589df251d73645aae209b010210eee     9\n",
       "c0eb129061675da412b0deb15871dd06ef0d7cd86eb5f7e8cc6a20b0d1938183     8\n",
       "                                                                    ..\n",
       "63933d31becd1487d93d56844919896334e3ae39c4095979816c6fbb8816153a     1\n",
       "23bcc14067e0fec60b8772b3e20abbb8fa9f2146738d37056e0d20d33a97c690     1\n",
       "5a1c9d9a745d6ee95136047698dba8f68f00bac522de6d83d18cf062f7286e22     1\n",
       "062597458dc597d35b2dbf3e417ac160244dc8c3dd50fce716837dc1e6fc7a10     1\n",
       "0bcfc1d05f2e8dc4147743a1313aa70a119b41b30d4a1f7e738a6a87d3712c31     1\n",
       "Name: email_hash, Length: 153443, dtype: int64"
      ]
     },
     "execution_count": 10,
     "metadata": {},
     "output_type": "execute_result"
    }
   ],
   "source": [
    "df['email_hash'].value_counts()"
   ]
  },
  {
   "cell_type": "markdown",
   "id": "2a7ede3c",
   "metadata": {},
   "source": [
    "## Making some new features like adding ‘Years of Experience’ column by subtracting orgyear from current year"
   ]
  },
  {
   "cell_type": "code",
   "execution_count": 11,
   "id": "20f67bb0",
   "metadata": {},
   "outputs": [
    {
     "data": {
      "text/plain": [
       "Index(['company_hash', 'email_hash', 'orgyear', 'ctc', 'job_position',\n",
       "       'ctc_updated_year'],\n",
       "      dtype='object')"
      ]
     },
     "execution_count": 11,
     "metadata": {},
     "output_type": "execute_result"
    }
   ],
   "source": [
    "df.columns"
   ]
  },
  {
   "cell_type": "code",
   "execution_count": 12,
   "id": "3446886b",
   "metadata": {},
   "outputs": [
    {
     "data": {
      "text/plain": [
       "2023"
      ]
     },
     "execution_count": 12,
     "metadata": {},
     "output_type": "execute_result"
    }
   ],
   "source": [
    "currentYear = datetime.now().year\n",
    "currentYear"
   ]
  },
  {
   "cell_type": "code",
   "execution_count": 13,
   "id": "3bf66c03",
   "metadata": {},
   "outputs": [
    {
     "data": {
      "text/plain": [
       "int"
      ]
     },
     "execution_count": 13,
     "metadata": {},
     "output_type": "execute_result"
    }
   ],
   "source": [
    "type(currentYear)"
   ]
  },
  {
   "cell_type": "code",
   "execution_count": 14,
   "id": "f5b193b7",
   "metadata": {},
   "outputs": [],
   "source": [
    "df['Years of Experience']=currentYear-df['orgyear']"
   ]
  },
  {
   "cell_type": "markdown",
   "id": "f390842f",
   "metadata": {},
   "source": [
    "## You may have to remove special characters from the dataset by using Regex"
   ]
  },
  {
   "cell_type": "code",
   "execution_count": 15,
   "id": "cdc6ae5c",
   "metadata": {},
   "outputs": [],
   "source": [
    "# import re\n",
    "\n",
    "# def split_it(x):\n",
    "#     return re.sub('[^A-Za-z0-9 ]+', '', x)\n",
    "\n",
    "# cols=['company_hash','email_hash','job_position']\n",
    "# for i in cols:\n",
    "#     df[i]= df[i].apply(lambda x: split_it(x))"
   ]
  },
  {
   "cell_type": "markdown",
   "id": "b3ff66d3",
   "metadata": {},
   "source": [
    "## Manual Clustering"
   ]
  },
  {
   "cell_type": "code",
   "execution_count": 16,
   "id": "adc4b300",
   "metadata": {},
   "outputs": [],
   "source": [
    "new_df=df.groupby('company_hash')['ctc'].describe()"
   ]
  },
  {
   "cell_type": "code",
   "execution_count": 17,
   "id": "e326546c",
   "metadata": {},
   "outputs": [
    {
     "data": {
      "text/plain": [
       "(205810, 7)"
      ]
     },
     "execution_count": 17,
     "metadata": {},
     "output_type": "execute_result"
    }
   ],
   "source": [
    "df.shape"
   ]
  },
  {
   "cell_type": "code",
   "execution_count": 18,
   "id": "b7b8a972",
   "metadata": {},
   "outputs": [],
   "source": [
    "new_df.reset_index(inplace=True)"
   ]
  },
  {
   "cell_type": "code",
   "execution_count": 19,
   "id": "2833f9fe",
   "metadata": {},
   "outputs": [
    {
     "data": {
      "text/plain": [
       "Index(['company_hash', 'count', 'mean', 'std', 'min', '25%', '50%', '75%',\n",
       "       'max'],\n",
       "      dtype='object')"
      ]
     },
     "execution_count": 19,
     "metadata": {},
     "output_type": "execute_result"
    }
   ],
   "source": [
    "new_df.columns"
   ]
  },
  {
   "cell_type": "code",
   "execution_count": 20,
   "id": "b4b6b839",
   "metadata": {},
   "outputs": [],
   "source": [
    "df_new=pd.merge(df,new_df)"
   ]
  },
  {
   "cell_type": "code",
   "execution_count": 21,
   "id": "b04475a3",
   "metadata": {},
   "outputs": [],
   "source": [
    "df_new.drop(columns=['mean','std','min','max'], axis=1,inplace=True)"
   ]
  },
  {
   "cell_type": "code",
   "execution_count": 22,
   "id": "d408ee86",
   "metadata": {},
   "outputs": [
    {
     "data": {
      "text/html": [
       "<div>\n",
       "<style scoped>\n",
       "    .dataframe tbody tr th:only-of-type {\n",
       "        vertical-align: middle;\n",
       "    }\n",
       "\n",
       "    .dataframe tbody tr th {\n",
       "        vertical-align: top;\n",
       "    }\n",
       "\n",
       "    .dataframe thead th {\n",
       "        text-align: right;\n",
       "    }\n",
       "</style>\n",
       "<table border=\"1\" class=\"dataframe\">\n",
       "  <thead>\n",
       "    <tr style=\"text-align: right;\">\n",
       "      <th></th>\n",
       "      <th>company_hash</th>\n",
       "      <th>email_hash</th>\n",
       "      <th>orgyear</th>\n",
       "      <th>ctc</th>\n",
       "      <th>job_position</th>\n",
       "      <th>ctc_updated_year</th>\n",
       "      <th>Years of Experience</th>\n",
       "      <th>count</th>\n",
       "      <th>25%</th>\n",
       "      <th>50%</th>\n",
       "      <th>75%</th>\n",
       "    </tr>\n",
       "  </thead>\n",
       "  <tbody>\n",
       "    <tr>\n",
       "      <th>0</th>\n",
       "      <td>atrgxnnt xzaxv</td>\n",
       "      <td>6de0a4417d18ab14334c3f43397fc13b30c35149d70c05...</td>\n",
       "      <td>2016.0</td>\n",
       "      <td>1100000</td>\n",
       "      <td>Other</td>\n",
       "      <td>2020.0</td>\n",
       "      <td>7.0</td>\n",
       "      <td>9.0</td>\n",
       "      <td>800000.0</td>\n",
       "      <td>1070000.0</td>\n",
       "      <td>1500000.0</td>\n",
       "    </tr>\n",
       "    <tr>\n",
       "      <th>1</th>\n",
       "      <td>atrgxnnt xzaxv</td>\n",
       "      <td>a309a8c6610af7e9f0a88cfb67f9a0095b0dde63475475...</td>\n",
       "      <td>2019.0</td>\n",
       "      <td>500000</td>\n",
       "      <td>Backend Engineer</td>\n",
       "      <td>2020.0</td>\n",
       "      <td>4.0</td>\n",
       "      <td>9.0</td>\n",
       "      <td>800000.0</td>\n",
       "      <td>1070000.0</td>\n",
       "      <td>1500000.0</td>\n",
       "    </tr>\n",
       "    <tr>\n",
       "      <th>2</th>\n",
       "      <td>atrgxnnt xzaxv</td>\n",
       "      <td>ffc974693a2bfd0326c707d8460d6783861a9497e538e2...</td>\n",
       "      <td>2017.0</td>\n",
       "      <td>1700000</td>\n",
       "      <td>Data Scientist</td>\n",
       "      <td>2020.0</td>\n",
       "      <td>6.0</td>\n",
       "      <td>9.0</td>\n",
       "      <td>800000.0</td>\n",
       "      <td>1070000.0</td>\n",
       "      <td>1500000.0</td>\n",
       "    </tr>\n",
       "    <tr>\n",
       "      <th>3</th>\n",
       "      <td>atrgxnnt xzaxv</td>\n",
       "      <td>b4dcd1e7ac426014a32ae303e4b527325d482e4d2c4bef...</td>\n",
       "      <td>2014.0</td>\n",
       "      <td>1000000</td>\n",
       "      <td>Backend Engineer</td>\n",
       "      <td>2018.0</td>\n",
       "      <td>9.0</td>\n",
       "      <td>9.0</td>\n",
       "      <td>800000.0</td>\n",
       "      <td>1070000.0</td>\n",
       "      <td>1500000.0</td>\n",
       "    </tr>\n",
       "    <tr>\n",
       "      <th>4</th>\n",
       "      <td>atrgxnnt xzaxv</td>\n",
       "      <td>0d2f25432591093f5907a8681d600f869bbe7c2ae39cd7...</td>\n",
       "      <td>2017.0</td>\n",
       "      <td>600000</td>\n",
       "      <td>Android Engineer</td>\n",
       "      <td>2021.0</td>\n",
       "      <td>6.0</td>\n",
       "      <td>9.0</td>\n",
       "      <td>800000.0</td>\n",
       "      <td>1070000.0</td>\n",
       "      <td>1500000.0</td>\n",
       "    </tr>\n",
       "    <tr>\n",
       "      <th>...</th>\n",
       "      <td>...</td>\n",
       "      <td>...</td>\n",
       "      <td>...</td>\n",
       "      <td>...</td>\n",
       "      <td>...</td>\n",
       "      <td>...</td>\n",
       "      <td>...</td>\n",
       "      <td>...</td>\n",
       "      <td>...</td>\n",
       "      <td>...</td>\n",
       "      <td>...</td>\n",
       "    </tr>\n",
       "    <tr>\n",
       "      <th>205761</th>\n",
       "      <td>yjutq nqvwp</td>\n",
       "      <td>3201950d49607287627626a0c3568cad1ab7b9ecc11e7d...</td>\n",
       "      <td>2012.0</td>\n",
       "      <td>2100000</td>\n",
       "      <td>other</td>\n",
       "      <td>2018.0</td>\n",
       "      <td>11.0</td>\n",
       "      <td>1.0</td>\n",
       "      <td>2100000.0</td>\n",
       "      <td>2100000.0</td>\n",
       "      <td>2100000.0</td>\n",
       "    </tr>\n",
       "    <tr>\n",
       "      <th>205762</th>\n",
       "      <td>yga xzzgcvnxgz rvm ucn rna</td>\n",
       "      <td>82fb93cc69f801b77356fb6b3c139d823d9c05be8552f0...</td>\n",
       "      <td>2013.0</td>\n",
       "      <td>840000</td>\n",
       "      <td>other</td>\n",
       "      <td>2019.0</td>\n",
       "      <td>10.0</td>\n",
       "      <td>1.0</td>\n",
       "      <td>840000.0</td>\n",
       "      <td>840000.0</td>\n",
       "      <td>840000.0</td>\n",
       "    </tr>\n",
       "    <tr>\n",
       "      <th>205763</th>\n",
       "      <td>ztdnowb xzwqtee</td>\n",
       "      <td>29f02bc29797857294cfcd44273ad42f64281ea79203f0...</td>\n",
       "      <td>2014.0</td>\n",
       "      <td>5266000</td>\n",
       "      <td>other</td>\n",
       "      <td>2015.0</td>\n",
       "      <td>9.0</td>\n",
       "      <td>1.0</td>\n",
       "      <td>5266000.0</td>\n",
       "      <td>5266000.0</td>\n",
       "      <td>5266000.0</td>\n",
       "    </tr>\n",
       "    <tr>\n",
       "      <th>205764</th>\n",
       "      <td>mrht onvnt axsxnvr</td>\n",
       "      <td>5feda7334a13c3f92937c0b3c4048aaab617edaf59ee4e...</td>\n",
       "      <td>2013.0</td>\n",
       "      <td>85000</td>\n",
       "      <td>other</td>\n",
       "      <td>2016.0</td>\n",
       "      <td>10.0</td>\n",
       "      <td>1.0</td>\n",
       "      <td>85000.0</td>\n",
       "      <td>85000.0</td>\n",
       "      <td>85000.0</td>\n",
       "    </tr>\n",
       "    <tr>\n",
       "      <th>205765</th>\n",
       "      <td>bvptbjnqxu td vbvkgz</td>\n",
       "      <td>6b163240ed6d31edd56950011b578d1cf255c7515c3f16...</td>\n",
       "      <td>2015.0</td>\n",
       "      <td>2400000</td>\n",
       "      <td>other</td>\n",
       "      <td>2019.0</td>\n",
       "      <td>8.0</td>\n",
       "      <td>1.0</td>\n",
       "      <td>2400000.0</td>\n",
       "      <td>2400000.0</td>\n",
       "      <td>2400000.0</td>\n",
       "    </tr>\n",
       "  </tbody>\n",
       "</table>\n",
       "<p>205766 rows × 11 columns</p>\n",
       "</div>"
      ],
      "text/plain": [
       "                      company_hash  \\\n",
       "0                   atrgxnnt xzaxv   \n",
       "1                   atrgxnnt xzaxv   \n",
       "2                   atrgxnnt xzaxv   \n",
       "3                   atrgxnnt xzaxv   \n",
       "4                   atrgxnnt xzaxv   \n",
       "...                            ...   \n",
       "205761                 yjutq nqvwp   \n",
       "205762  yga xzzgcvnxgz rvm ucn rna   \n",
       "205763             ztdnowb xzwqtee   \n",
       "205764          mrht onvnt axsxnvr   \n",
       "205765        bvptbjnqxu td vbvkgz   \n",
       "\n",
       "                                               email_hash  orgyear      ctc  \\\n",
       "0       6de0a4417d18ab14334c3f43397fc13b30c35149d70c05...   2016.0  1100000   \n",
       "1       a309a8c6610af7e9f0a88cfb67f9a0095b0dde63475475...   2019.0   500000   \n",
       "2       ffc974693a2bfd0326c707d8460d6783861a9497e538e2...   2017.0  1700000   \n",
       "3       b4dcd1e7ac426014a32ae303e4b527325d482e4d2c4bef...   2014.0  1000000   \n",
       "4       0d2f25432591093f5907a8681d600f869bbe7c2ae39cd7...   2017.0   600000   \n",
       "...                                                   ...      ...      ...   \n",
       "205761  3201950d49607287627626a0c3568cad1ab7b9ecc11e7d...   2012.0  2100000   \n",
       "205762  82fb93cc69f801b77356fb6b3c139d823d9c05be8552f0...   2013.0   840000   \n",
       "205763  29f02bc29797857294cfcd44273ad42f64281ea79203f0...   2014.0  5266000   \n",
       "205764  5feda7334a13c3f92937c0b3c4048aaab617edaf59ee4e...   2013.0    85000   \n",
       "205765  6b163240ed6d31edd56950011b578d1cf255c7515c3f16...   2015.0  2400000   \n",
       "\n",
       "            job_position  ctc_updated_year  Years of Experience  count  \\\n",
       "0                  Other            2020.0                  7.0    9.0   \n",
       "1       Backend Engineer            2020.0                  4.0    9.0   \n",
       "2         Data Scientist            2020.0                  6.0    9.0   \n",
       "3       Backend Engineer            2018.0                  9.0    9.0   \n",
       "4       Android Engineer            2021.0                  6.0    9.0   \n",
       "...                  ...               ...                  ...    ...   \n",
       "205761             other            2018.0                 11.0    1.0   \n",
       "205762             other            2019.0                 10.0    1.0   \n",
       "205763             other            2015.0                  9.0    1.0   \n",
       "205764             other            2016.0                 10.0    1.0   \n",
       "205765             other            2019.0                  8.0    1.0   \n",
       "\n",
       "              25%        50%        75%  \n",
       "0        800000.0  1070000.0  1500000.0  \n",
       "1        800000.0  1070000.0  1500000.0  \n",
       "2        800000.0  1070000.0  1500000.0  \n",
       "3        800000.0  1070000.0  1500000.0  \n",
       "4        800000.0  1070000.0  1500000.0  \n",
       "...           ...        ...        ...  \n",
       "205761  2100000.0  2100000.0  2100000.0  \n",
       "205762   840000.0   840000.0   840000.0  \n",
       "205763  5266000.0  5266000.0  5266000.0  \n",
       "205764    85000.0    85000.0    85000.0  \n",
       "205765  2400000.0  2400000.0  2400000.0  \n",
       "\n",
       "[205766 rows x 11 columns]"
      ]
     },
     "execution_count": 22,
     "metadata": {},
     "output_type": "execute_result"
    }
   ],
   "source": [
    "df_new"
   ]
  },
  {
   "cell_type": "code",
   "execution_count": 23,
   "id": "0ad3a715",
   "metadata": {},
   "outputs": [],
   "source": [
    "df_new['designation']=0"
   ]
  },
  {
   "cell_type": "code",
   "execution_count": 24,
   "id": "5a82b579",
   "metadata": {},
   "outputs": [],
   "source": [
    "data_dict = df_new.to_dict()\n",
    "for i in range(205766) :\n",
    "    if data_dict['ctc'][i]>= data_dict['75%'][i]:\n",
    "        data_dict['designation'][i]=1\n",
    "    elif data_dict['ctc'][i]>=data_dict['50%'][i] and data_dict['ctc'][i]<=data_dict['75%'][i] :\n",
    "        data_dict['designation'][i]=2 \n",
    "    elif data_dict['ctc'][i]<=data_dict['25%'][i]:\n",
    "        data_dict['designation'][i]=3\n",
    "        "
   ]
  },
  {
   "cell_type": "code",
   "execution_count": 25,
   "id": "28a3df0a",
   "metadata": {},
   "outputs": [],
   "source": [
    "df_new=pd.DataFrame(data_dict)"
   ]
  },
  {
   "cell_type": "code",
   "execution_count": 26,
   "id": "a92f34ee",
   "metadata": {},
   "outputs": [],
   "source": [
    "df_new['class']=0\n",
    "df_new.drop(columns=['75%','50%','25%'], axis=1,inplace=True)"
   ]
  },
  {
   "cell_type": "code",
   "execution_count": 27,
   "id": "670c4723",
   "metadata": {},
   "outputs": [],
   "source": [
    "df_new=df_new.groupby(['company_hash','job_position'])['ctc'].describe()\n",
    "new_df.reset_index(inplace=True)\n",
    "df_new=pd.merge(df,new_df)\n",
    "df_new.drop(columns=['mean','std','min','max'], axis=1,inplace=True)"
   ]
  },
  {
   "cell_type": "code",
   "execution_count": 28,
   "id": "ab08329f",
   "metadata": {},
   "outputs": [
    {
     "ename": "KeyError",
     "evalue": "'class'",
     "output_type": "error",
     "traceback": [
      "\u001b[1;31m---------------------------------------------------------------------------\u001b[0m",
      "\u001b[1;31mKeyError\u001b[0m                                  Traceback (most recent call last)",
      "Cell \u001b[1;32mIn [28], line 6\u001b[0m\n\u001b[0;32m      4\u001b[0m     data_dict[\u001b[38;5;124m'\u001b[39m\u001b[38;5;124mclass\u001b[39m\u001b[38;5;124m'\u001b[39m][i]\u001b[38;5;241m=\u001b[39m\u001b[38;5;241m1\u001b[39m\n\u001b[0;32m      5\u001b[0m \u001b[38;5;28;01melif\u001b[39;00m data_dict[\u001b[38;5;124m'\u001b[39m\u001b[38;5;124mctc\u001b[39m\u001b[38;5;124m'\u001b[39m][i]\u001b[38;5;241m>\u001b[39m\u001b[38;5;241m=\u001b[39mdata_dict[\u001b[38;5;124m'\u001b[39m\u001b[38;5;124m50\u001b[39m\u001b[38;5;124m%\u001b[39m\u001b[38;5;124m'\u001b[39m][i] \u001b[38;5;129;01mand\u001b[39;00m data_dict[\u001b[38;5;124m'\u001b[39m\u001b[38;5;124mctc\u001b[39m\u001b[38;5;124m'\u001b[39m][i]\u001b[38;5;241m<\u001b[39m\u001b[38;5;241m=\u001b[39mdata_dict[\u001b[38;5;124m'\u001b[39m\u001b[38;5;124m75\u001b[39m\u001b[38;5;124m%\u001b[39m\u001b[38;5;124m'\u001b[39m][i] :\n\u001b[1;32m----> 6\u001b[0m     \u001b[43mdata_dict\u001b[49m\u001b[43m[\u001b[49m\u001b[38;5;124;43m'\u001b[39;49m\u001b[38;5;124;43mclass\u001b[39;49m\u001b[38;5;124;43m'\u001b[39;49m\u001b[43m]\u001b[49m[i]\u001b[38;5;241m=\u001b[39m\u001b[38;5;241m2\u001b[39m \n\u001b[0;32m      7\u001b[0m \u001b[38;5;28;01melif\u001b[39;00m data_dict[\u001b[38;5;124m'\u001b[39m\u001b[38;5;124mctc\u001b[39m\u001b[38;5;124m'\u001b[39m][i]\u001b[38;5;241m<\u001b[39m\u001b[38;5;241m=\u001b[39mdata_dict[\u001b[38;5;124m'\u001b[39m\u001b[38;5;124m25\u001b[39m\u001b[38;5;124m%\u001b[39m\u001b[38;5;124m'\u001b[39m][i]:\n\u001b[0;32m      8\u001b[0m     data_dict[\u001b[38;5;124m'\u001b[39m\u001b[38;5;124mclass\u001b[39m\u001b[38;5;124m'\u001b[39m][i]\u001b[38;5;241m=\u001b[39m\u001b[38;5;241m3\u001b[39m\n",
      "\u001b[1;31mKeyError\u001b[0m: 'class'"
     ]
    }
   ],
   "source": [
    "\n",
    "data_dict = df_new.to_dict()\n",
    "for i in range(205766) :\n",
    "    if data_dict['ctc'][i]>= data_dict['75%'][i]:\n",
    "        data_dict['class'][i]=1\n",
    "    elif data_dict['ctc'][i]>=data_dict['50%'][i] and data_dict['ctc'][i]<=data_dict['75%'][i] :\n",
    "        data_dict['class'][i]=2 \n",
    "    elif data_dict['ctc'][i]<=data_dict['25%'][i]:\n",
    "        data_dict['class'][i]=3\n",
    "        \n",
    "df_new=pd.DataFrame(data_dict)"
   ]
  },
  {
   "cell_type": "code",
   "execution_count": null,
   "id": "04d2d625",
   "metadata": {},
   "outputs": [],
   "source": [
    "df_new"
   ]
  },
  {
   "cell_type": "code",
   "execution_count": null,
   "id": "aef9a115",
   "metadata": {},
   "outputs": [],
   "source": []
  }
 ],
 "metadata": {
  "kernelspec": {
   "display_name": "Python 3 (ipykernel)",
   "language": "python",
   "name": "python3"
  },
  "language_info": {
   "codemirror_mode": {
    "name": "ipython",
    "version": 3
   },
   "file_extension": ".py",
   "mimetype": "text/x-python",
   "name": "python",
   "nbconvert_exporter": "python",
   "pygments_lexer": "ipython3",
   "version": "3.9.6"
  }
 },
 "nbformat": 4,
 "nbformat_minor": 5
}
