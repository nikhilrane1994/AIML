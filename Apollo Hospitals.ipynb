{
 "cells": [
  {
   "cell_type": "code",
   "execution_count": 1,
   "id": "7417e55e",
   "metadata": {},
   "outputs": [],
   "source": [
    "import pandas as pd\n",
    "import seaborn as sns\n",
    "import numpy as np"
   ]
  },
  {
   "cell_type": "code",
   "execution_count": 2,
   "id": "3ca6c406",
   "metadata": {},
   "outputs": [],
   "source": [
    "df1=pd.read_csv(\"scaler_apollo_hospitals.csv\")"
   ]
  },
  {
   "cell_type": "code",
   "execution_count": 3,
   "id": "0d82d4d6",
   "metadata": {},
   "outputs": [
    {
     "data": {
      "text/plain": [
       "Index(['Unnamed: 0', 'age', 'sex', 'smoker', 'region', 'viral load',\n",
       "       'severity level', 'hospitalization charges'],\n",
       "      dtype='object')"
      ]
     },
     "execution_count": 3,
     "metadata": {},
     "output_type": "execute_result"
    }
   ],
   "source": [
    "df1.columns"
   ]
  },
  {
   "cell_type": "code",
   "execution_count": 5,
   "id": "be17be14",
   "metadata": {},
   "outputs": [],
   "source": [
    "df1.drop(columns=df1.columns[0],inplace=True)"
   ]
  },
  {
   "cell_type": "code",
   "execution_count": 3,
   "id": "3fe98b88",
   "metadata": {},
   "outputs": [
    {
     "data": {
      "text/plain": [
       "Unnamed: 0                 0\n",
       "age                        0\n",
       "sex                        0\n",
       "smoker                     0\n",
       "region                     0\n",
       "viral load                 0\n",
       "severity level             0\n",
       "hospitalization charges    0\n",
       "dtype: int64"
      ]
     },
     "execution_count": 3,
     "metadata": {},
     "output_type": "execute_result"
    }
   ],
   "source": [
    "df1.describe()\n",
    "df1.isna().sum()"
   ]
  },
  {
   "cell_type": "code",
   "execution_count": 4,
   "id": "40896ecc",
   "metadata": {},
   "outputs": [
    {
     "data": {
      "text/html": [
       "<div>\n",
       "<style scoped>\n",
       "    .dataframe tbody tr th:only-of-type {\n",
       "        vertical-align: middle;\n",
       "    }\n",
       "\n",
       "    .dataframe tbody tr th {\n",
       "        vertical-align: top;\n",
       "    }\n",
       "\n",
       "    .dataframe thead th {\n",
       "        text-align: right;\n",
       "    }\n",
       "</style>\n",
       "<table border=\"1\" class=\"dataframe\">\n",
       "  <thead>\n",
       "    <tr style=\"text-align: right;\">\n",
       "      <th></th>\n",
       "      <th>Unnamed: 0</th>\n",
       "      <th>age</th>\n",
       "      <th>sex</th>\n",
       "      <th>smoker</th>\n",
       "      <th>region</th>\n",
       "      <th>viral load</th>\n",
       "      <th>severity level</th>\n",
       "      <th>hospitalization charges</th>\n",
       "    </tr>\n",
       "  </thead>\n",
       "  <tbody>\n",
       "    <tr>\n",
       "      <th>0</th>\n",
       "      <td>0</td>\n",
       "      <td>19</td>\n",
       "      <td>female</td>\n",
       "      <td>yes</td>\n",
       "      <td>southwest</td>\n",
       "      <td>9.30</td>\n",
       "      <td>0</td>\n",
       "      <td>42212</td>\n",
       "    </tr>\n",
       "    <tr>\n",
       "      <th>1</th>\n",
       "      <td>1</td>\n",
       "      <td>18</td>\n",
       "      <td>male</td>\n",
       "      <td>no</td>\n",
       "      <td>southeast</td>\n",
       "      <td>11.26</td>\n",
       "      <td>1</td>\n",
       "      <td>4314</td>\n",
       "    </tr>\n",
       "    <tr>\n",
       "      <th>2</th>\n",
       "      <td>2</td>\n",
       "      <td>28</td>\n",
       "      <td>male</td>\n",
       "      <td>no</td>\n",
       "      <td>southeast</td>\n",
       "      <td>11.00</td>\n",
       "      <td>3</td>\n",
       "      <td>11124</td>\n",
       "    </tr>\n",
       "    <tr>\n",
       "      <th>3</th>\n",
       "      <td>3</td>\n",
       "      <td>33</td>\n",
       "      <td>male</td>\n",
       "      <td>no</td>\n",
       "      <td>northwest</td>\n",
       "      <td>7.57</td>\n",
       "      <td>0</td>\n",
       "      <td>54961</td>\n",
       "    </tr>\n",
       "    <tr>\n",
       "      <th>4</th>\n",
       "      <td>4</td>\n",
       "      <td>32</td>\n",
       "      <td>male</td>\n",
       "      <td>no</td>\n",
       "      <td>northwest</td>\n",
       "      <td>9.63</td>\n",
       "      <td>0</td>\n",
       "      <td>9667</td>\n",
       "    </tr>\n",
       "    <tr>\n",
       "      <th>...</th>\n",
       "      <td>...</td>\n",
       "      <td>...</td>\n",
       "      <td>...</td>\n",
       "      <td>...</td>\n",
       "      <td>...</td>\n",
       "      <td>...</td>\n",
       "      <td>...</td>\n",
       "      <td>...</td>\n",
       "    </tr>\n",
       "    <tr>\n",
       "      <th>1333</th>\n",
       "      <td>1333</td>\n",
       "      <td>50</td>\n",
       "      <td>male</td>\n",
       "      <td>no</td>\n",
       "      <td>northwest</td>\n",
       "      <td>10.32</td>\n",
       "      <td>3</td>\n",
       "      <td>26501</td>\n",
       "    </tr>\n",
       "    <tr>\n",
       "      <th>1334</th>\n",
       "      <td>1334</td>\n",
       "      <td>18</td>\n",
       "      <td>female</td>\n",
       "      <td>no</td>\n",
       "      <td>northeast</td>\n",
       "      <td>10.64</td>\n",
       "      <td>0</td>\n",
       "      <td>5515</td>\n",
       "    </tr>\n",
       "    <tr>\n",
       "      <th>1335</th>\n",
       "      <td>1335</td>\n",
       "      <td>18</td>\n",
       "      <td>female</td>\n",
       "      <td>no</td>\n",
       "      <td>southeast</td>\n",
       "      <td>12.28</td>\n",
       "      <td>0</td>\n",
       "      <td>4075</td>\n",
       "    </tr>\n",
       "    <tr>\n",
       "      <th>1336</th>\n",
       "      <td>1336</td>\n",
       "      <td>21</td>\n",
       "      <td>female</td>\n",
       "      <td>no</td>\n",
       "      <td>southwest</td>\n",
       "      <td>8.60</td>\n",
       "      <td>0</td>\n",
       "      <td>5020</td>\n",
       "    </tr>\n",
       "    <tr>\n",
       "      <th>1337</th>\n",
       "      <td>1337</td>\n",
       "      <td>61</td>\n",
       "      <td>female</td>\n",
       "      <td>yes</td>\n",
       "      <td>northwest</td>\n",
       "      <td>9.69</td>\n",
       "      <td>0</td>\n",
       "      <td>72853</td>\n",
       "    </tr>\n",
       "  </tbody>\n",
       "</table>\n",
       "<p>1338 rows × 8 columns</p>\n",
       "</div>"
      ],
      "text/plain": [
       "      Unnamed: 0  age     sex smoker     region  viral load  severity level  \\\n",
       "0              0   19  female    yes  southwest        9.30               0   \n",
       "1              1   18    male     no  southeast       11.26               1   \n",
       "2              2   28    male     no  southeast       11.00               3   \n",
       "3              3   33    male     no  northwest        7.57               0   \n",
       "4              4   32    male     no  northwest        9.63               0   \n",
       "...          ...  ...     ...    ...        ...         ...             ...   \n",
       "1333        1333   50    male     no  northwest       10.32               3   \n",
       "1334        1334   18  female     no  northeast       10.64               0   \n",
       "1335        1335   18  female     no  southeast       12.28               0   \n",
       "1336        1336   21  female     no  southwest        8.60               0   \n",
       "1337        1337   61  female    yes  northwest        9.69               0   \n",
       "\n",
       "      hospitalization charges  \n",
       "0                       42212  \n",
       "1                        4314  \n",
       "2                       11124  \n",
       "3                       54961  \n",
       "4                        9667  \n",
       "...                       ...  \n",
       "1333                    26501  \n",
       "1334                     5515  \n",
       "1335                     4075  \n",
       "1336                     5020  \n",
       "1337                    72853  \n",
       "\n",
       "[1338 rows x 8 columns]"
      ]
     },
     "execution_count": 4,
     "metadata": {},
     "output_type": "execute_result"
    }
   ],
   "source": [
    "df1"
   ]
  },
  {
   "cell_type": "code",
   "execution_count": 5,
   "id": "5878d3c7",
   "metadata": {},
   "outputs": [
    {
     "data": {
      "text/html": [
       "<div>\n",
       "<style scoped>\n",
       "    .dataframe tbody tr th:only-of-type {\n",
       "        vertical-align: middle;\n",
       "    }\n",
       "\n",
       "    .dataframe tbody tr th {\n",
       "        vertical-align: top;\n",
       "    }\n",
       "\n",
       "    .dataframe thead th {\n",
       "        text-align: right;\n",
       "    }\n",
       "</style>\n",
       "<table border=\"1\" class=\"dataframe\">\n",
       "  <thead>\n",
       "    <tr style=\"text-align: right;\">\n",
       "      <th></th>\n",
       "      <th>Unnamed: 0</th>\n",
       "      <th>age</th>\n",
       "      <th>viral load</th>\n",
       "      <th>severity level</th>\n",
       "      <th>hospitalization charges</th>\n",
       "    </tr>\n",
       "  </thead>\n",
       "  <tbody>\n",
       "    <tr>\n",
       "      <th>Unnamed: 0</th>\n",
       "      <td>1.000000</td>\n",
       "      <td>-0.031467</td>\n",
       "      <td>-0.036171</td>\n",
       "      <td>0.025221</td>\n",
       "      <td>-0.003373</td>\n",
       "    </tr>\n",
       "    <tr>\n",
       "      <th>age</th>\n",
       "      <td>-0.031467</td>\n",
       "      <td>1.000000</td>\n",
       "      <td>0.109300</td>\n",
       "      <td>0.042469</td>\n",
       "      <td>0.299008</td>\n",
       "    </tr>\n",
       "    <tr>\n",
       "      <th>viral load</th>\n",
       "      <td>-0.036171</td>\n",
       "      <td>0.109300</td>\n",
       "      <td>1.000000</td>\n",
       "      <td>0.012729</td>\n",
       "      <td>0.198388</td>\n",
       "    </tr>\n",
       "    <tr>\n",
       "      <th>severity level</th>\n",
       "      <td>0.025221</td>\n",
       "      <td>0.042469</td>\n",
       "      <td>0.012729</td>\n",
       "      <td>1.000000</td>\n",
       "      <td>0.067998</td>\n",
       "    </tr>\n",
       "    <tr>\n",
       "      <th>hospitalization charges</th>\n",
       "      <td>-0.003373</td>\n",
       "      <td>0.299008</td>\n",
       "      <td>0.198388</td>\n",
       "      <td>0.067998</td>\n",
       "      <td>1.000000</td>\n",
       "    </tr>\n",
       "  </tbody>\n",
       "</table>\n",
       "</div>"
      ],
      "text/plain": [
       "                         Unnamed: 0       age  viral load  severity level  \\\n",
       "Unnamed: 0                 1.000000 -0.031467   -0.036171        0.025221   \n",
       "age                       -0.031467  1.000000    0.109300        0.042469   \n",
       "viral load                -0.036171  0.109300    1.000000        0.012729   \n",
       "severity level             0.025221  0.042469    0.012729        1.000000   \n",
       "hospitalization charges   -0.003373  0.299008    0.198388        0.067998   \n",
       "\n",
       "                         hospitalization charges  \n",
       "Unnamed: 0                             -0.003373  \n",
       "age                                     0.299008  \n",
       "viral load                              0.198388  \n",
       "severity level                          0.067998  \n",
       "hospitalization charges                 1.000000  "
      ]
     },
     "execution_count": 5,
     "metadata": {},
     "output_type": "execute_result"
    }
   ],
   "source": [
    "df1.corr()"
   ]
  },
  {
   "cell_type": "code",
   "execution_count": 6,
   "id": "4d9b5a2a",
   "metadata": {},
   "outputs": [
    {
     "data": {
      "text/html": [
       "<div>\n",
       "<style scoped>\n",
       "    .dataframe tbody tr th:only-of-type {\n",
       "        vertical-align: middle;\n",
       "    }\n",
       "\n",
       "    .dataframe tbody tr th {\n",
       "        vertical-align: top;\n",
       "    }\n",
       "\n",
       "    .dataframe thead th {\n",
       "        text-align: right;\n",
       "    }\n",
       "</style>\n",
       "<table border=\"1\" class=\"dataframe\">\n",
       "  <thead>\n",
       "    <tr style=\"text-align: right;\">\n",
       "      <th></th>\n",
       "      <th>Unnamed: 0</th>\n",
       "      <th>age</th>\n",
       "      <th>sex</th>\n",
       "      <th>smoker</th>\n",
       "      <th>region</th>\n",
       "      <th>viral load</th>\n",
       "      <th>severity level</th>\n",
       "      <th>hospitalization charges</th>\n",
       "    </tr>\n",
       "  </thead>\n",
       "  <tbody>\n",
       "    <tr>\n",
       "      <th>0</th>\n",
       "      <td>0</td>\n",
       "      <td>19</td>\n",
       "      <td>female</td>\n",
       "      <td>yes</td>\n",
       "      <td>southwest</td>\n",
       "      <td>9.30</td>\n",
       "      <td>0</td>\n",
       "      <td>42212</td>\n",
       "    </tr>\n",
       "    <tr>\n",
       "      <th>1</th>\n",
       "      <td>1</td>\n",
       "      <td>18</td>\n",
       "      <td>male</td>\n",
       "      <td>no</td>\n",
       "      <td>southeast</td>\n",
       "      <td>11.26</td>\n",
       "      <td>1</td>\n",
       "      <td>4314</td>\n",
       "    </tr>\n",
       "    <tr>\n",
       "      <th>2</th>\n",
       "      <td>2</td>\n",
       "      <td>28</td>\n",
       "      <td>male</td>\n",
       "      <td>no</td>\n",
       "      <td>southeast</td>\n",
       "      <td>11.00</td>\n",
       "      <td>3</td>\n",
       "      <td>11124</td>\n",
       "    </tr>\n",
       "    <tr>\n",
       "      <th>3</th>\n",
       "      <td>3</td>\n",
       "      <td>33</td>\n",
       "      <td>male</td>\n",
       "      <td>no</td>\n",
       "      <td>northwest</td>\n",
       "      <td>7.57</td>\n",
       "      <td>0</td>\n",
       "      <td>54961</td>\n",
       "    </tr>\n",
       "    <tr>\n",
       "      <th>4</th>\n",
       "      <td>4</td>\n",
       "      <td>32</td>\n",
       "      <td>male</td>\n",
       "      <td>no</td>\n",
       "      <td>northwest</td>\n",
       "      <td>9.63</td>\n",
       "      <td>0</td>\n",
       "      <td>9667</td>\n",
       "    </tr>\n",
       "    <tr>\n",
       "      <th>...</th>\n",
       "      <td>...</td>\n",
       "      <td>...</td>\n",
       "      <td>...</td>\n",
       "      <td>...</td>\n",
       "      <td>...</td>\n",
       "      <td>...</td>\n",
       "      <td>...</td>\n",
       "      <td>...</td>\n",
       "    </tr>\n",
       "    <tr>\n",
       "      <th>1333</th>\n",
       "      <td>1333</td>\n",
       "      <td>50</td>\n",
       "      <td>male</td>\n",
       "      <td>no</td>\n",
       "      <td>northwest</td>\n",
       "      <td>10.32</td>\n",
       "      <td>3</td>\n",
       "      <td>26501</td>\n",
       "    </tr>\n",
       "    <tr>\n",
       "      <th>1334</th>\n",
       "      <td>1334</td>\n",
       "      <td>18</td>\n",
       "      <td>female</td>\n",
       "      <td>no</td>\n",
       "      <td>northeast</td>\n",
       "      <td>10.64</td>\n",
       "      <td>0</td>\n",
       "      <td>5515</td>\n",
       "    </tr>\n",
       "    <tr>\n",
       "      <th>1335</th>\n",
       "      <td>1335</td>\n",
       "      <td>18</td>\n",
       "      <td>female</td>\n",
       "      <td>no</td>\n",
       "      <td>southeast</td>\n",
       "      <td>12.28</td>\n",
       "      <td>0</td>\n",
       "      <td>4075</td>\n",
       "    </tr>\n",
       "    <tr>\n",
       "      <th>1336</th>\n",
       "      <td>1336</td>\n",
       "      <td>21</td>\n",
       "      <td>female</td>\n",
       "      <td>no</td>\n",
       "      <td>southwest</td>\n",
       "      <td>8.60</td>\n",
       "      <td>0</td>\n",
       "      <td>5020</td>\n",
       "    </tr>\n",
       "    <tr>\n",
       "      <th>1337</th>\n",
       "      <td>1337</td>\n",
       "      <td>61</td>\n",
       "      <td>female</td>\n",
       "      <td>yes</td>\n",
       "      <td>northwest</td>\n",
       "      <td>9.69</td>\n",
       "      <td>0</td>\n",
       "      <td>72853</td>\n",
       "    </tr>\n",
       "  </tbody>\n",
       "</table>\n",
       "<p>1199 rows × 8 columns</p>\n",
       "</div>"
      ],
      "text/plain": [
       "      Unnamed: 0  age     sex smoker     region  viral load  severity level  \\\n",
       "0              0   19  female    yes  southwest        9.30               0   \n",
       "1              1   18    male     no  southeast       11.26               1   \n",
       "2              2   28    male     no  southeast       11.00               3   \n",
       "3              3   33    male     no  northwest        7.57               0   \n",
       "4              4   32    male     no  northwest        9.63               0   \n",
       "...          ...  ...     ...    ...        ...         ...             ...   \n",
       "1333        1333   50    male     no  northwest       10.32               3   \n",
       "1334        1334   18  female     no  northeast       10.64               0   \n",
       "1335        1335   18  female     no  southeast       12.28               0   \n",
       "1336        1336   21  female     no  southwest        8.60               0   \n",
       "1337        1337   61  female    yes  northwest        9.69               0   \n",
       "\n",
       "      hospitalization charges  \n",
       "0                       42212  \n",
       "1                        4314  \n",
       "2                       11124  \n",
       "3                       54961  \n",
       "4                        9667  \n",
       "...                       ...  \n",
       "1333                    26501  \n",
       "1334                     5515  \n",
       "1335                     4075  \n",
       "1336                     5020  \n",
       "1337                    72853  \n",
       "\n",
       "[1199 rows x 8 columns]"
      ]
     },
     "execution_count": 6,
     "metadata": {},
     "output_type": "execute_result"
    }
   ],
   "source": [
    "#outlier removal for hospitalization charges\n",
    "purchase_h=df1['hospitalization charges']\n",
    "qm1=np.quantile(purchase_h,0.25)\n",
    "qm3=np.quantile(purchase_h,0.75)\n",
    "iqrm=qm3-qm1\n",
    "upper_bound_m=qm3+(1.5*iqrm)\n",
    "lower_bound_m=qm1-(1.5*iqrm)\n",
    "df=df1[df1['hospitalization charges']>lower_bound_m]\n",
    "df=df1[df1['hospitalization charges']<upper_bound_m]\n",
    "df"
   ]
  },
  {
   "cell_type": "code",
   "execution_count": 7,
   "id": "286e1f10",
   "metadata": {},
   "outputs": [
    {
     "data": {
      "text/plain": [
       "<AxesSubplot:xlabel='smoker', ylabel='hospitalization charges'>"
      ]
     },
     "execution_count": 7,
     "metadata": {},
     "output_type": "execute_result"
    },
    {
     "data": {
      "image/png": "[encoded data removed]",
      "text/plain": [
       "<Figure size 720x648 with 6 Axes>"
      ]
     },
     "metadata": {
      "needs_background": "light"
     },
     "output_type": "display_data"
    },
    {
     "data": {
      "image/png": "[encoded data removed]",
      "text/plain": [
       "<Figure size 720x720 with 4 Axes>"
      ]
     },
     "metadata": {
      "needs_background": "light"
     },
     "output_type": "display_data"
    }
   ],
   "source": [
    "import  matplotlib.pyplot as plt\n",
    "figure, axes = plt.subplots(nrows=3, ncols=2)\n",
    "plt.tight_layout()\n",
    "figure.set_size_inches(10,9)\n",
    "sns.barplot(x='sex', y='viral load', data=df, ax=axes[0,0],hue=df['smoker'])\n",
    "sns.barplot(x='sex', y='severity level', data=df, ax=axes[0,1],hue=df['smoker'])\n",
    "sns.barplot(x='severity level', y='hospitalization charges', data=df, ax=axes[1,0])\n",
    "sns.barplot(x='smoker', y='hospitalization charges', data=df, ax=axes[1,1])\n",
    "sns.barplot(x='region', y='hospitalization charges', data=df, ax=axes[2,0])\n",
    "sns.barplot(x='region', y='hospitalization charges', data=df, ax=axes[2,0],hue=df['sex'])\n",
    "sns.barplot(x='region', y='hospitalization charges', data=df, ax=axes[2,1],hue=df['smoker'])\n",
    "\n",
    "\n",
    "\n",
    "figure, axes = plt.subplots(nrows=2, ncols=2)\n",
    "plt.tight_layout()\n",
    "figure.set_size_inches(10,10)\n",
    "\n",
    "sns.boxplot(x='sex', y='viral load', data=df, ax=axes[0,0],hue=df['smoker'])\n",
    "sns.boxplot(x='sex', y='severity level', data=df, ax=axes[0,1],hue=df['smoker'])\n",
    "sns.boxplot(x='severity level', y='hospitalization charges', data=df, ax=axes[1,0])\n",
    "sns.boxplot(x='smoker', y='hospitalization charges', data=df, ax=axes[1,1])\n",
    "sns.boxplot(x='smoker', y='hospitalization charges', data=df, ax=axes[1,1])\n"
   ]
  },
  {
   "cell_type": "code",
   "execution_count": 23,
   "id": "266799a6",
   "metadata": {},
   "outputs": [
    {
     "ename": "TypeError",
     "evalue": "histplot() got multiple values for argument 'data'",
     "output_type": "error",
     "traceback": [
      "\u001b[1;31m---------------------------------------------------------------------------\u001b[0m",
      "\u001b[1;31mTypeError\u001b[0m                                 Traceback (most recent call last)",
      "\u001b[1;32mC:\\Users\\SIDDHI~1.PAW\\AppData\\Local\\Temp/ipykernel_8516/3988101197.py\u001b[0m in \u001b[0;36m<module>\u001b[1;34m\u001b[0m\n\u001b[0;32m      1\u001b[0m \u001b[0msns\u001b[0m\u001b[1;33m.\u001b[0m\u001b[0mbarplot\u001b[0m\u001b[1;33m(\u001b[0m\u001b[0mx\u001b[0m\u001b[1;33m=\u001b[0m\u001b[1;34m'age'\u001b[0m\u001b[1;33m,\u001b[0m \u001b[0my\u001b[0m\u001b[1;33m=\u001b[0m\u001b[1;34m'hospitalization charges'\u001b[0m\u001b[1;33m,\u001b[0m \u001b[0mdata\u001b[0m\u001b[1;33m=\u001b[0m\u001b[0mdf\u001b[0m\u001b[1;33m)\u001b[0m\u001b[1;33m\u001b[0m\u001b[1;33m\u001b[0m\u001b[0m\n\u001b[1;32m----> 2\u001b[1;33m \u001b[0msns\u001b[0m\u001b[1;33m.\u001b[0m\u001b[0mhistplot\u001b[0m\u001b[1;33m(\u001b[0m\u001b[1;34m'age'\u001b[0m\u001b[1;33m,\u001b[0m\u001b[0mbins\u001b[0m\u001b[1;33m=\u001b[0m\u001b[1;36m5\u001b[0m\u001b[1;33m,\u001b[0m \u001b[0mdata\u001b[0m\u001b[1;33m=\u001b[0m\u001b[0mdf\u001b[0m\u001b[1;33m)\u001b[0m\u001b[1;33m\u001b[0m\u001b[1;33m\u001b[0m\u001b[0m\n\u001b[0m",
      "\u001b[1;31mTypeError\u001b[0m: histplot() got multiple values for argument 'data'"
     ]
    },
    {
     "data": {
      "image/png": "[encoded data removed]",
      "text/plain": [
       "<Figure size 432x288 with 1 Axes>"
      ]
     },
     "metadata": {
      "needs_background": "light"
     },
     "output_type": "display_data"
    }
   ],
   "source": [
    "sns.barplot(x='age', y='hospitalization charges', data=df)\n"
   ]
  },
  {
   "cell_type": "code",
   "execution_count": 12,
   "id": "35324af1",
   "metadata": {},
   "outputs": [],
   "source": [
    "#Try establishing a relation between the dependent and independent variable (Dependent “hospitalization charges” & Independent: Smoker, Severity Level etc)\n"
   ]
  },
  {
   "cell_type": "code",
   "execution_count": 10,
   "id": "86ab2679",
   "metadata": {},
   "outputs": [
    {
     "name": "stdout",
     "output_type": "stream",
     "text": [
      "138\n",
      "1061\n",
      "reject null hyoptehsis\n",
      "26.098730863028162 3.12649222185407e-119\n"
     ]
    }
   ],
   "source": [
    "#Prove (or disprove) that the hospitalization of people who do smoking is greater than those who don't? (T-test Right tailed)\n",
    "#H0: Hospitalization by smoking<Hospitalization by not smoking\n",
    "#H1:Hospitalization by smoking>Hospitalization by not smoking\n",
    "    \n",
    "from scipy import stats\n",
    "x1=df[df['smoker']=='yes']['hospitalization charges']\n",
    "n1=len(x1)\n",
    "print(n1)\n",
    "y1=df[df['smoker']=='no']['hospitalization charges']\n",
    "n2=len(y1)\n",
    "print(n2)\n",
    "(stat,p_val)=stats.ttest_ind(a=x1, b=y1, equal_var=True)\n",
    "alpha=0.05\n",
    "if p_val>alpha:\n",
    "    print(\"Fail to reject null hyoptehsisi\")\n",
    "    \n",
    "if p_val<alpha:\n",
    "    print(\"reject null hyoptehsis\")\n",
    "\n",
    "print(stat, p_val)"
   ]
  },
  {
   "cell_type": "code",
   "execution_count": 11,
   "id": "15917a90",
   "metadata": {},
   "outputs": [
    {
     "name": "stdout",
     "output_type": "stream",
     "text": [
      "Fail to reject null hyoptehsisi\n"
     ]
    },
    {
     "data": {
      "text/plain": [
       "(-0.9460853706266092, 0.34429598282535334)"
      ]
     },
     "execution_count": 11,
     "metadata": {},
     "output_type": "execute_result"
    }
   ],
   "source": [
    "#Prove (or disprove) with statistical evidence that the viral load of females is different from that of males (T-test Two tailed)\n",
    "#H0: viral load of females=viral load of males\n",
    "#H1: viral load of females!=viral load of males\n",
    "\n",
    "x1=df[df['sex']=='female']['viral load']\n",
    "n1=len(x1)\n",
    "y1=df[df['sex']=='male']['viral load']\n",
    "n2=len(y1)\n",
    "(stat,p_val)=stats.ttest_ind(a=x1, b=y1, equal_var=True)\n",
    "alpha=0.05\n",
    "if p_val>alpha:\n",
    "    print(\"Fail to reject null hyoptehsisi\")\n",
    "    \n",
    "if p_val<alpha:\n",
    "    print(\"reject null hyoptehsis\")\n",
    "stat,p_val"
   ]
  },
  {
   "cell_type": "code",
   "execution_count": 12,
   "id": "58d10386",
   "metadata": {},
   "outputs": [
    {
     "name": "stdout",
     "output_type": "stream",
     "text": [
      "fail to reject null hyop\n"
     ]
    },
    {
     "data": {
      "text/plain": [
       "(0.07443469817375759, 0.9282779784079939)"
      ]
     },
     "execution_count": 12,
     "metadata": {},
     "output_type": "execute_result"
    }
   ],
   "source": [
    "# Is the mean viral load of women with 0 Severity level , 1 Severity level, and 2 Severity level the same? Explain your answer with statistical evidence (One way Anova)\n",
    "from scipy.stats import f_oneway\n",
    "df3=df[df['sex']=='female']\n",
    "df3\n",
    "alpha =0.05\n",
    "#H0 = (mean(0 Severity level)=mean(1 Severity level)=mean(2 Severity level))\n",
    "#H1 = (mean(0 Severity level)!=mean(1 Severity level)!=mean(2 Severity level))\n",
    "(stat,p_val)=f_oneway(df3[df3['severity level']==0]['viral load'],df3[df3['severity level']==1] ['viral load'],df3[df3['severity level']==2] ['viral load'])\n",
    "if p_val<alpha:\n",
    "    print(\"reject null hyop\")\n",
    "    \n",
    "if p_val>alpha:\n",
    "     print(\"fail to reject null hyop\")\n",
    "(stat,p_val)        "
   ]
  },
  {
   "cell_type": "code",
   "execution_count": 18,
   "id": "328388b6",
   "metadata": {},
   "outputs": [
    {
     "name": "stdout",
     "output_type": "stream",
     "text": [
      "chisquare-score is: 2.9745627841799864  and critical value is: 7.814727903251179\n",
      " hospitalization charges and severity level are independent\n"
     ]
    }
   ],
   "source": [
    "#Is the proportion of smoking significantly different across different regions? (Chi-square)\n",
    "\n",
    "\n",
    "# H0=mean of hospitalization charges equal mean smoker\n",
    "# H1=mean of hospitalization equal mean of smoker\n",
    "data_crosstab = pd.crosstab(df['region'],\n",
    "                        df['smoker'],\n",
    "                       margins=True, margins_name=\"Total\")\n",
    "rows = df['region'].unique()\n",
    "columns = df['smoker'].unique()\n",
    "chi_square = 0\n",
    "for i in columns:\n",
    "    for j in rows:\n",
    "        O = data_crosstab[i][j]\n",
    "        E = data_crosstab[i]['Total'] * data_crosstab['Total'][j] / data_crosstab['Total']['Total']\n",
    "        chi_square += (O-E)**2/E\n",
    "alpha = 0.05\n",
    "critical_value = stats.chi2.ppf(1-alpha, (len(rows)-1)*(len(columns)-1))\n",
    "if chi_square > critical_value:\n",
    "    conclusion = f\" region and smoker are dependent\"\n",
    "else:\n",
    "    conclusion = f\" region and smoker are independent\"\n",
    "\n",
    "\n",
    "\n",
    "print(\"chisquare-score is:\", chi_square, \" and critical value is:\", critical_value)\n",
    "print(conclusion)"
   ]
  },
  {
   "cell_type": "code",
   "execution_count": null,
   "id": "5e24fcc2",
   "metadata": {},
   "outputs": [],
   "source": [
    "Insights\n",
    "1.All numerical variables are Positively correlated to each other\n",
    "2.hospitalization charges are higher for sevirty level 3,4 hospitalization rate is higher for severity level 3,4\n",
    "3. severity increases with smokinh habits, seen more hospitalization in that in case for men\n",
    "4. men are seen having higly viral load\n",
    "5. norheast resion no of hospitalization is Higher for both male and female as compatred to other region\n",
    "6. northweat region is having higer smoking habits in make and female as compred to other region\n",
    "7.prportion proportion of smoking significantly different across different regions\n",
    "8.Hospitalization by smoking>Hospitalization by not smoking\n",
    "9.viral load of females!=viral load of males\n",
    "10.viral load is Higher in male than female"
   ]
  }
 ],
 "metadata": {
  "kernelspec": {
   "display_name": "Python 3 (ipykernel)",
   "language": "python",
   "name": "python3"
  },
  "language_info": {
   "codemirror_mode": {
    "name": "ipython",
    "version": 3
   },
   "file_extension": ".py",
   "mimetype": "text/x-python",
   "name": "python",
   "nbconvert_exporter": "python",
   "pygments_lexer": "ipython3",
   "version": "3.9.6"
  }
 },
 "nbformat": 4,
 "nbformat_minor": 5
}
